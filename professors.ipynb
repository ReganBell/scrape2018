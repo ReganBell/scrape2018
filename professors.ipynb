{
 "cells": [
  {
   "cell_type": "code",
   "execution_count": 1,
   "metadata": {
    "collapsed": false
   },
   "outputs": [],
   "source": [
    "import jupyterImport\n",
    "jupyterImport.enableJupyterImports()\n",
    "import relevance\n",
    "from calc_percentiles import offeringsWithPercentiles, reports\n",
    "from Utilities import find, pluck, copyKeys, allWith, analyze\n",
    "from collections import defaultdict\n",
    "from operator import itemgetter"
   ]
  },
  {
   "cell_type": "code",
   "execution_count": 30,
   "metadata": {
    "collapsed": true
   },
   "outputs": [],
   "source": [
    "def genProfessors(offerings):\n",
    "  professors = {}\n",
    "  for offering, profs in allWith('profs', offerings):\n",
    "    for matchName, displayName in pluck('matchName', 'displayName').all(profs):\n",
    "      if matchName not in professors:\n",
    "        professors[matchName] = {\n",
    "          'displayName': displayName, 'matchName': matchName, 'taught': {}, \n",
    "          'teaching': { \n",
    "            offering['objectID']: copyKeys(offering, ['group', 'number', 'title', 'termYear', 'objectID'])\n",
    "          }\n",
    "        }\n",
    "  return professors\n",
    "\n",
    "def linkPastReportsToProfessors(professors, reports):\n",
    "  for report, profs in allWith('profs', reports):\n",
    "    for qProf in [qProf for qProf in profs if qProf['matchName'] in professors]:\n",
    "      qDisp, qMatch = pluck('displayName', 'matchName').getTuple(qProf)\n",
    "      disp, match = pluck('displayName', 'matchName').getTuple(professors[qMatch])\n",
    "      pastOffering = copyKeys(report, [\n",
    "        'group', \n",
    "        'number', \n",
    "        'title', \n",
    "        'term', \n",
    "        'year', \n",
    "        'size',\n",
    "        ('overall', 'responses/overall/score'), \n",
    "        ('workload', 'responses/workload/score'),\n",
    "        'reportId'\n",
    "      ])\n",
    "      pastOffering.update(copyKeys(qProf, [\n",
    "        ('instructor', 'responses/instructor/score'), \n",
    "        ('instructorPercentile', ('responses/instructor/percentiles/size'))\n",
    "      ]))\n",
    "      professors[qMatch]['taught'][report['reportId']] = pastOffering\n",
    "      # Q display names w/ same # of words are usually better eg. N. Mankiw -> Gregory Mankiw\n",
    "      if len(disp.split(' ')) == len(qDisp.split(' ')) and disp != qDisp:\n",
    "  #       print 'Overriding:', disp, '->', qDisp\n",
    "        professors[qMatch]['displayName'] = qDisp\n",
    "\n",
    "def lastTimeTaughtReport(matchName, reports):\n",
    "  for report, reportProfs in allWith('profs', reports):\n",
    "    for reportProf in reportProfs:\n",
    "      if reportProf['matchName'] == matchName and find('responses/instructor/score', obj=reportProf):\n",
    "        addToProf = {\n",
    "          'relevantBecause': 'taughtPreviously',\n",
    "          'matched': copyKeys(report, ['group', 'number', 'title', 'term', 'year', 'reportId']) \n",
    "        }\n",
    "        addToProf.update(copyKeys(reportProf, [('score', 'responses/instructor/score'), ('percentile', 'responses/instructor/percentiles/size')]))\n",
    "        return addToProf\n",
    "\n",
    "def profRelevance(prof, ofReport):\n",
    "  if 'profs' in ofReport:\n",
    "    for repProf, matchName in allWith('matchName', ofReport['profs']):\n",
    "      if prof['matchName'] == matchName:\n",
    "        return 999.\n",
    "  return 0.\n",
    "      \n",
    "def calcProfRelevance(prof, offering, toReport, reps, similarity):\n",
    "  toNumberInt = offering['numberInt']\n",
    "  try:\n",
    "    toScore = float(toReport['responses']['workload']['score'])\n",
    "  except:\n",
    "    toScore = None\n",
    "  for ofReport in reps:\n",
    "    relevanceScore = 0\n",
    "    if toReport:\n",
    "      relevanceScore += relevance.size(offering, toReport, ofReport)\n",
    "      relevanceScore += relevance.workload(offering, toReport, toScore, ofReport)\n",
    "      relevanceScore += relevance.profs(prof, ofReport, toReport)\n",
    "    relevanceScore += relevance.number(offering, toNumberInt, ofReport)\n",
    "    relevanceScore += relevance.group(offering, ofReport)\n",
    "    similarity[ofReport['reportId']] += relevanceScore    \n",
    "\n",
    "def mostRecentReport(offering):\n",
    "  if 'topReport' in offering:\n",
    "    return offering['topReport']\n",
    "  elif 'reports' in offering and len(offering['reports']) > 0:\n",
    "    return offering['reports'][0]\n",
    "    \n",
    "def addMostRelevantScoreAndPercentileToOfferingProfs(offerings, professors):\n",
    "  for offering, profs in allWith('profs', offerings):\n",
    "    for offeringProf, matchName in allWith('matchName', profs):\n",
    "      professor = professors[matchName]\n",
    "      lastTimeTaught = lastTimeTaughtReport(matchName, offering['reports']) if 'reports' in offering else None\n",
    "      if lastTimeTaught:\n",
    "        offeringProf.update(lastTimeTaught)\n",
    "      elif 'taught' in professor and len(professor['taught'].keys()) > 0:\n",
    "        similarity = defaultdict(lambda: 0.)\n",
    "        mostRecent = mostRecentReport(offering)\n",
    "        calcProfRelevance(offeringProf, offering, mostRecent, professor['taught'].values(), similarity)\n",
    "        mostRelevantId, _ = sorted(similarity.items(), key=itemgetter(1), reverse=True)[0]\n",
    "        mostRelevant = [x for x in professor['taught'].values() if x['reportId'] == mostRelevantId][0]\n",
    "        offeringProf.update({'relevantBecause': 'mostSimilarTaughtCourse', 'matched': copyKeys(mostRelevant, ['group', 'number', 'title', 'term', 'year', 'reportId'])})\n",
    "        offeringProf.update(copyKeys(mostRelevant, [('score', 'instructor'), ('percentile', 'instructorPercentile')]))"
   ]
  },
  {
   "cell_type": "code",
   "execution_count": 3,
   "metadata": {
    "collapsed": true
   },
   "outputs": [],
   "source": [
    "professors = genProfessors(offeringsWithPercentiles)\n",
    "linkPastReportsToProfessors(professors, reports)\n",
    "addMostRelevantScoreAndPercentileToOfferingProfs(offeringsWithPercentiles, professors)"
   ]
  },
  {
   "cell_type": "code",
   "execution_count": 4,
   "metadata": {
    "collapsed": true
   },
   "outputs": [],
   "source": [
    "offeringsWithProfessors = offeringsWithPercentiles"
   ]
  }
 ],
 "metadata": {
  "kernelspec": {
   "display_name": "Python 2",
   "language": "python",
   "name": "python2"
  },
  "language_info": {
   "codemirror_mode": {
    "name": "ipython",
    "version": 2
   },
   "file_extension": ".py",
   "mimetype": "text/x-python",
   "name": "python",
   "nbconvert_exporter": "python",
   "pygments_lexer": "ipython2",
   "version": "2.7.13"
  }
 },
 "nbformat": 4,
 "nbformat_minor": 2
}
