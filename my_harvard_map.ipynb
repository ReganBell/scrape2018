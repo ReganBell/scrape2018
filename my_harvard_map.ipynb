{
 "cells": [
  {
   "cell_type": "markdown",
   "metadata": {},
   "source": [
    "# my.harvard Mappers\n",
    "Below are all of the mappings from the raw my.harvard scrape to the parsed offerings objects in the database. Each one is broken into its own cell to make testing easier. For testing, `genSamples`, `genSample`, and `Mapper`'s `uniques` method come in handy."
   ]
  },
  {
   "cell_type": "code",
   "execution_count": 1,
   "metadata": {
    "collapsed": false
   },
   "outputs": [],
   "source": [
    "from jupyterImport import enableJupyterImports\n",
    "enableJupyterImports()\n",
    "from Utilities import find, Mapper, MultiReplace, genSamples, genSample, name, analyze\n",
    "from load_raw_data import myHarvard\n",
    "import sys, json"
   ]
  },
  {
   "cell_type": "code",
   "execution_count": 2,
   "metadata": {
    "collapsed": false
   },
   "outputs": [],
   "source": [
    "deptReplace = MultiReplace({\n",
    "  '&': 'and', \n",
    "  'Biol$': 'Biology', \n",
    "  ' Sci ': ' Science ', \n",
    "  ' Chem ': ' Chemistry ',\n",
    "  ' Amer ': ' American ',\n",
    "  '^Biolog ': 'Biological ',\n",
    "  ' Bio ': ' Biology ',\n",
    "  'Med$': 'Medicine',\n",
    "  'Pharm$': 'Pharmacology',\n",
    "  'GenEd: ': '',\n",
    "  'Hlth$': 'Health',\n",
    "  'Aesthetic and Interpretive': 'Aesthetic and Interpretive Understanding',\n",
    "  'Pol$': 'Policy',\n",
    "  ' Regen ': ' Regenerative ',\n",
    "  'Science of Physical Universe': 'Science of the Physical Universe',\n",
    "  '^E Asian': 'East Asian',\n",
    "  'Math Reasoning': 'Mathematical Reasoning',\n",
    "  'E Europe and Cntrl Asia': 'Eastern Europe, and Central Asia',\n",
    "  'E Europe, Central Asia': 'Eastern Europe, and Central Asia',\n",
    "  'Biomedical Sci': 'Biomedical Sciences',\n",
    "  '^Adv Stud': 'Advanced Studies',\n",
    "  'and Civ': 'and Civilizations',\n",
    "  ' Langs ': ' Languages ',\n",
    "  'Lit$': 'Literature',\n",
    "  'Arch, Landscape and Urban Plan': 'Architecture, Landscape, and Urban Planning',\n",
    "  'Envi Science': 'Environmental Science'\n",
    "})"
   ]
  },
  {
   "cell_type": "code",
   "execution_count": 3,
   "metadata": {
    "collapsed": true
   },
   "outputs": [],
   "source": [
    "def mapDepartments(inputs):\n",
    "  depts, primary = inputs\n",
    "  depts = [primary] + (depts if isinstance(depts, list) else [depts])\n",
    "  depts = [deptReplace.sub(dept) for dept in depts]\n",
    "  return {'departments': depts}\n",
    "departmentsMapper = Mapper(['IS_SCL_DESCR_IS_SCL_DESCRM', 'IS_SCL_DESCR_IS_SCL_DESCRD'], mapDepartments)"
   ]
  },
  {
   "cell_type": "code",
   "execution_count": 4,
   "metadata": {
    "collapsed": true
   },
   "outputs": [],
   "source": [
    "prepReplace = MultiReplace({\n",
    "  'Prerequisite: ': '',\n",
    "  '^\\*': '',\n",
    "  '\\.$': ''\n",
    "})\n",
    "def mapRecommendedPrep(prep):\n",
    "  return {'recommendedPrep': prepReplace.sub(prep)} if prep else {}\n",
    "recommendedPrepMapper = Mapper('RecPrepDescr', mapRecommendedPrep)"
   ]
  },
  {
   "cell_type": "code",
   "execution_count": 5,
   "metadata": {
    "collapsed": false
   },
   "outputs": [],
   "source": [
    "consentRequiredMapper = Mapper('IS_SCL_DESCRSHORT_HU_CONSENT', Mapper.noChange('consentRequired'))"
   ]
  },
  {
   "cell_type": "code",
   "execution_count": 6,
   "metadata": {
    "collapsed": true
   },
   "outputs": [],
   "source": [
    "formatMap = {\n",
    "  'Read Rsch': 'Reading and Research',\n",
    "  'Doc Diss': 'Doctoral Dissertation',\n",
    "  'ReadingCrs': 'Reading Course',\n",
    "  'Fresh Sem': 'Freshman Seminar',\n",
    "  'JrTutorial': 'Junior Tutorial',\n",
    "  'SrTutorial': 'Senior Tutorial',\n",
    "  'Rsrch Wksh': 'Research Workshop',\n",
    "  'Rsrch Sem': 'Research Seminar',\n",
    "  'Soph Tutor': 'Sophomore Tutorial',\n",
    "  'Lab Rsrch': 'Lab Research',\n",
    "  'Sem Wrkshp': 'Seminar Workshop',\n",
    "  'House Sem': 'House Seminar',\n",
    "  'Ind Study': 'Independent Study',\n",
    "  'Rsch': 'Research',\n",
    "  'LW': 'Lecture/Workshop'\n",
    "}\n",
    "def mapFormat(frmt):\n",
    "  return {'format': formatMap[frmt] if frmt in formatMap else frmt} if frmt else {}\n",
    "formatMapper = Mapper('SSR_COMPONENT_NAME', mapFormat)"
   ]
  },
  {
   "cell_type": "code",
   "execution_count": 7,
   "metadata": {
    "collapsed": false
   },
   "outputs": [],
   "source": [
    "notesMapper = Mapper('HU_COURSE_PREQ', Mapper.noChange('notes'))"
   ]
  },
  {
   "cell_type": "code",
   "execution_count": 8,
   "metadata": {
    "collapsed": false
   },
   "outputs": [],
   "source": [
    "gradingBasisMapper = Mapper('IS_SCL_DESCR100_HU_SCL_GRADE_BASIS', Mapper.noChange('gradingBasis'))"
   ]
  },
  {
   "cell_type": "code",
   "execution_count": 9,
   "metadata": {
    "collapsed": false
   },
   "outputs": [],
   "source": [
    "unitsMapper = Mapper('UnitsDisplay', Mapper.noChange('units'))"
   ]
  },
  {
   "cell_type": "code",
   "execution_count": 10,
   "metadata": {
    "collapsed": false
   },
   "outputs": [],
   "source": [
    "classNumberMapper = Mapper('CLASS_NBR', Mapper.noChange('classNumber'))"
   ]
  },
  {
   "cell_type": "code",
   "execution_count": 11,
   "metadata": {
    "collapsed": true
   },
   "outputs": [],
   "source": [
    "courseIdMapper = Mapper('CRSE_ID', Mapper.noChange('courseId'))"
   ]
  },
  {
   "cell_type": "code",
   "execution_count": 12,
   "metadata": {
    "collapsed": false
   },
   "outputs": [],
   "source": [
    "def mapEnrollmentCap(cap):\n",
    "  if not cap or cap == '999' or cap == '9999':\n",
    "    return {}\n",
    "  else:\n",
    "    return {'enrollmentCap': int(cap)}\n",
    "enrollmentCapMapper = Mapper('ENRL_CAP', mapEnrollmentCap)"
   ]
  },
  {
   "cell_type": "code",
   "execution_count": 13,
   "metadata": {
    "collapsed": true
   },
   "outputs": [],
   "source": [
    "groupMapper = Mapper('Subject', Mapper.noChange('group'))"
   ]
  },
  {
   "cell_type": "code",
   "execution_count": 14,
   "metadata": {
    "collapsed": true
   },
   "outputs": [],
   "source": [
    "titleReplace = MultiReplace({'Expository Writing 20: ': '' })\n",
    "def mapTitle(inputs):\n",
    "  (title, expos) = inputs\n",
    "  fullTitle = title + ': ' + expos if expos else title\n",
    "  return {'title': titleReplace.sub(fullTitle)}\n",
    "titleMapper = Mapper(['Title', 'DESCRFORMAL_COURSE_TOPIC'], mapTitle)"
   ]
  },
  {
   "cell_type": "code",
   "execution_count": 15,
   "metadata": {
    "collapsed": true
   },
   "outputs": [],
   "source": [
    "def mapGenEds(genEds):\n",
    "  return {'genEds': genEds if isinstance(genEds, list) else [genEds]} if genEds else {}\n",
    "genEdsMapper = Mapper('IS_SCL_DESCR100_HU_SCL_ATTR_GE', mapGenEds)"
   ]
  },
  {
   "cell_type": "code",
   "execution_count": 16,
   "metadata": {
    "collapsed": true
   },
   "outputs": [],
   "source": [
    "levelMap = {\n",
    "  'Graduate Course': 'Grad',\n",
    "  'Primarily for Undergraduate Students': 'Mainly Undergrad',\n",
    "  'For Undergraduate and Graduate Students': 'Grad or Undergrad',\n",
    "  'Primarily for Graduate Students': 'Mainly Grad'\n",
    "}\n",
    "def mapLevel(level):\n",
    "  return {'level': levelMap[level] if level in level else level} if level else {}\n",
    "levelMapper = Mapper('IS_SCL_DESCR100_HU_SCL_ATTR_LEVL', Mapper.noChange('level'))"
   ]
  },
  {
   "cell_type": "code",
   "execution_count": 17,
   "metadata": {
    "collapsed": true
   },
   "outputs": [],
   "source": [
    "def mapCourseSite(site):\n",
    "  return {} if site == 'NOURL' else {'courseSite': site}\n",
    "courseSiteMapper = Mapper('URL_URLNAME', mapCourseSite)"
   ]
  },
  {
   "cell_type": "code",
   "execution_count": 18,
   "metadata": {
    "collapsed": true
   },
   "outputs": [],
   "source": [
    "def mapCrossReg(crossReg):\n",
    "  return {'crossReg': crossReg if isinstance(crossReg, list) else [crossReg]} if crossReg else {}\n",
    "crossRegMapper = Mapper('IS_SCL_DESCR100_HU_SCL_ATTR_XREG', mapCrossReg)"
   ]
  },
  {
   "cell_type": "code",
   "execution_count": 19,
   "metadata": {
    "collapsed": true
   },
   "outputs": [],
   "source": [
    "def shorten(year):\n",
    "  return \"'20\" if year == '2020' else year.replace('20', \"'\")\n",
    "def mapTermYear(inputs):\n",
    "  (normal, likely) = inputs\n",
    "  if not likely:\n",
    "    if normal == 'Not Offered':\n",
    "      return {'termYear': 'Not Offered'}\n",
    "    else:\n",
    "      year, term = tuple(normal.split(' '))\n",
    "      return {'term': term, 'year': year, 'termYear': term + ' ' + shorten(year)}\n",
    "  else:\n",
    "    year, term = tuple(likely.split(' '))\n",
    "    return {'likelyTerm': term, 'likelyYear': year, 'termYear': 'Likely ' + term + ' ' + shorten(year)}\n",
    "termYearMapper = Mapper(['IS_SCL_DESCR_IS_SCL_DESCRH', 'IS_SCL_MEETING_PAT_HU_LIKELY_OFFERED'], mapTermYear)"
   ]
  },
  {
   "cell_type": "code",
   "execution_count": 20,
   "metadata": {
    "collapsed": true
   },
   "outputs": [],
   "source": [
    "descReplace = MultiReplace({'<p>': '', '</p>': ''})\n",
    "def mapDescription(desc):\n",
    "  return {'description': descReplace.sub(desc)} if desc else {}\n",
    "descriptionMapper = Mapper('IS_SCL_DESCR', mapDescription)"
   ]
  },
  {
   "cell_type": "code",
   "execution_count": 21,
   "metadata": {
    "collapsed": true
   },
   "outputs": [],
   "source": [
    "import re\n",
    "def mapNumber(inputs):\n",
    "  (number, group) = inputs\n",
    "  matched = re.compile('\\d\\d*').findall(number)\n",
    "  return {\n",
    "  'number': number,\n",
    "  'numberInt': int(matched[0]) if len(matched) > 0 else -1\n",
    "}\n",
    "numberMapper = Mapper(['CATALOG_NBR', 'Subject'], mapNumber)"
   ]
  },
  {
   "cell_type": "code",
   "execution_count": 22,
   "metadata": {
    "collapsed": true
   },
   "outputs": [],
   "source": [
    "def mapProfs(profs):\n",
    "  if not profs:\n",
    "    return {}\n",
    "  if not isinstance(profs, list):\n",
    "    print 'not list -------'\n",
    "    print json.dumps(profs, indent=2)\n",
    "  def mapProf(prof):\n",
    "    fullName = prof['Name']\n",
    "    return {'displayName': name(fullName), 'matchName': name(fullName, match=True)}\n",
    "  return {'profs': [mapProf(p) for p in profs]}\n",
    "profsMapper = Mapper('DESCRLONG_DETAILS', mapProfs)"
   ]
  },
  {
   "cell_type": "code",
   "execution_count": 23,
   "metadata": {
    "collapsed": true
   },
   "outputs": [],
   "source": [
    "def mapObjectID(inputs):\n",
    "  (classNumber, courseId) = inputs\n",
    "  classNumber = '0' if not classNumber else classNumber\n",
    "  return {'objectID': '_'.join([courseId, classNumber])}\n",
    "objectIDMapper = Mapper(['CLASS_NBR', 'CRSE_ID'], mapObjectID)   "
   ]
  },
  {
   "cell_type": "code",
   "execution_count": 24,
   "metadata": {
    "collapsed": false
   },
   "outputs": [],
   "source": [
    "def mapMinutes(minutes):\n",
    "  if minutes == 59:\n",
    "    return 1.0\n",
    "  if minutes == 29:\n",
    "    return 0.5\n",
    "  if minutes == 15:\n",
    "    return 0.25\n",
    "  else:\n",
    "    return minutes / 60.0\n",
    "  \n",
    "def mapTime(time):\n",
    "  if time is None:\n",
    "    return None\n",
    "  pm = 'pm' in time\n",
    "  time = time.replace('am', '').replace('pm', '')\n",
    "  if ':' not in time or len(time.split(':')) != 2:\n",
    "    raise\n",
    "  hours, minutes = tuple([int(x) for x in time.split(':')])\n",
    "  hours = hours + 12 if pm and hours < 12 else hours\n",
    "  return float(hours) + mapMinutes(minutes)\n",
    "    \n",
    "daysReplace = MultiReplace({'Mo': 'M', 'We': 'W', 'Fr': 'F'})\n",
    "def mapDays(days):\n",
    "    return daysReplace.sub(days).split(' ')\n",
    "\n",
    "def assignIf(dictionary):\n",
    "  def assign(key, value):\n",
    "    if value:\n",
    "      dictionary[key] = value\n",
    "  return assign\n",
    "\n",
    "locReplace = MultiReplace({\n",
    "  ' \\(FAS\\)': '',\n",
    "  ' \\(SEAS\\)': '',\n",
    "  ' \\(HLS\\)': '',\n",
    "  'Bldg': 'Building', \n",
    "  'Ctr': 'Center',\n",
    "  ' \\(HDS\\)': '',\n",
    "  ' \\(GSD\\)': ''\n",
    "})\n",
    "def mapLocName(name):\n",
    "  return locReplace.sub(name) if name else None\n",
    "\n",
    "def mapLatLong(latLong):\n",
    "  return latLong if latLong != '0' else None\n",
    "\n",
    "def mapSession(inputs):\n",
    "  (start, end, days, locName, locNumber, latitude, longitude) = inputs\n",
    "  session = {}; seshSet = assignIf(session)\n",
    "  start, end = mapTime(start), mapTime(end)\n",
    "  if start and end:\n",
    "    session['time'] = {'start': start, 'end': end}\n",
    "  seshSet('days', mapDays(days)) \n",
    "  location = {}; locSet = assignIf(location)\n",
    "  locSet('name', mapLocName(locName))\n",
    "  locSet('number', locNumber)\n",
    "  locSet('longitude', mapLatLong(longitude))\n",
    "  locSet('latitude', mapLatLong(latitude))\n",
    "  if len(location.keys()) > 0:\n",
    "    session['location'] = location\n",
    "  return session\n",
    "\n",
    "sessionKeys = [\n",
    "  'IS_SCL_TIME_START', \n",
    "  'IS_SCL_TIME_END', \n",
    "  'IS_SCL_MEETING_PAT', \n",
    "  'IS_SCL_DESCR_IS_SCL_DESCRG',\n",
    "  'BLDG_CD',\n",
    "  'HU_LATITUDE',\n",
    "  'HU_LONGITUDE'\n",
    "]\n",
    "def _mapSessions(inputs):\n",
    "  (multiSection, start, end, days, locNameOrNames, locNumber, latitude, longitude) = inputs\n",
    "  if days == 'TBA':\n",
    "    return None\n",
    "  if multiSection:\n",
    "    sessions = []\n",
    "    locNameOrNames = locNameOrNames if locNameOrNames else [None] * len(multiSection)\n",
    "    locNames = locNameOrNames if isinstance(locNameOrNames, list) else [locNameOrNames] * len(multiSection)\n",
    "    for session, locName in zip(multiSection, locNames):\n",
    "      mapped = {}\n",
    "      session['IS_SCL_DESCR_IS_SCL_DESCRG'] = locName\n",
    "      Mapper(sessionKeys, mapSession).map(session, mapped)\n",
    "      sessions.append(mapped)\n",
    "    return sessions\n",
    "  elif days is not None:\n",
    "    return [mapSession((start, end, days, locNameOrNames, locNumber, latitude, longitude))]\n",
    "  else:\n",
    "    return None\n",
    "def mapSessions(inputs):\n",
    "  sessions = _mapSessions(inputs)\n",
    "  if sessions:\n",
    "    sessionsDict = {'sessions': sessions}\n",
    "    try:\n",
    "      sessionsDict['sessionString'] = ', '.join(sessions[0]['days'])\n",
    "    except:\n",
    "      pass\n",
    "    return sessionsDict\n",
    "  else:\n",
    "    return {}\n",
    "    \n",
    "sessionsMapper = Mapper(['MultiSection'] + sessionKeys, mapSessions)"
   ]
  },
  {
   "cell_type": "code",
   "execution_count": 25,
   "metadata": {
    "collapsed": true
   },
   "outputs": [],
   "source": [
    "examDateTimeMapper = Mapper('IS_SCL_DESCR_HU_SCL_EXAM_GROUP', Mapper.noChange('examDateTime'))"
   ]
  },
  {
   "cell_type": "code",
   "execution_count": 26,
   "metadata": {
    "collapsed": true
   },
   "outputs": [],
   "source": [
    "enrollmentStatusMapper = Mapper('EnrlDisplay', Mapper.noChange('enrollmentStatus'))"
   ]
  },
  {
   "cell_type": "code",
   "execution_count": 27,
   "metadata": {
    "collapsed": true
   },
   "outputs": [],
   "source": [
    "mappers = [\n",
    "  departmentsMapper,\n",
    "  recommendedPrepMapper,\n",
    "  consentRequiredMapper,\n",
    "  formatMapper,\n",
    "  notesMapper,\n",
    "  gradingBasisMapper,\n",
    "  unitsMapper,\n",
    "  classNumberMapper,\n",
    "  courseIdMapper,\n",
    "  enrollmentCapMapper,\n",
    "  groupMapper,\n",
    "  titleMapper,\n",
    "  genEdsMapper,\n",
    "  levelMapper,\n",
    "  courseSiteMapper,\n",
    "  crossRegMapper,\n",
    "  termYearMapper,\n",
    "  descriptionMapper,\n",
    "  numberMapper,\n",
    "  profsMapper,\n",
    "  objectIDMapper,\n",
    "  sessionsMapper,\n",
    "  examDateTimeMapper,\n",
    "  enrollmentStatusMapper\n",
    "]"
   ]
  },
  {
   "cell_type": "code",
   "execution_count": 28,
   "metadata": {
    "collapsed": true
   },
   "outputs": [],
   "source": [
    "rawOfferings = myHarvard()"
   ]
  },
  {
   "cell_type": "code",
   "execution_count": 29,
   "metadata": {
    "collapsed": false
   },
   "outputs": [],
   "source": [
    "offerings = []\n",
    "for raw in rawOfferings:\n",
    "  parsed = {}\n",
    "  for mapper in mappers:\n",
    "    mapper.map(raw, to=parsed)\n",
    "  offerings.append(parsed)"
   ]
  },
  {
   "cell_type": "code",
   "execution_count": 30,
   "metadata": {
    "collapsed": false
   },
   "outputs": [
    {
     "data": {
      "text/plain": [
       "13654"
      ]
     },
     "execution_count": 30,
     "metadata": {},
     "output_type": "execute_result"
    }
   ],
   "source": [
    "# len(offerings)"
   ]
  },
  {
   "cell_type": "code",
   "execution_count": 32,
   "metadata": {
    "collapsed": false
   },
   "outputs": [
    {
     "name": "stdout",
     "output_type": "stream",
     "text": [
      "Is optional? True 2307 of 4408\n",
      "Counter({<type 'dict'>: 2307})\n",
      "[('{\"latitude\": \"42.375885\", \"name\": \"Gund 111\", \"longitude\": \"-71.113862\", \"number\": \"02240\"}', 34), ('{\"latitude\": \"42.335303\", \"name\": \"Kresge 200 (HSPH)\", \"longitude\": \"-71.102839\", \"number\": \"02790\"}', 29), ('{\"latitude\": \"42.335575\", \"name\": \"FXB G11 (HSPH)\", \"longitude\": \"-71.10173\", \"number\": \"02720\"}', 28), ('{\"latitude\": \"42.37141\", \"name\": \"Belfer 200 Starr Aud (HKS)\", \"longitude\": \"-71.121541\", \"number\": \"02112\"}', 26), ('{\"latitude\": \"42.371036\", \"name\": \"Littauer Building 140 (HKS)\", \"longitude\": \"-71.122057\", \"number\": \"02111\"}', 25), ('{\"latitude\": \"42.37141\", \"name\": \"Belfer 400 Land Hall (HKS)\", \"longitude\": \"-71.121541\", \"number\": \"02112\"}', 24), ('{\"latitude\": \"42.371036\", \"name\": \"Littauer Building L230 (HKS)\", \"longitude\": \"-71.122057\", \"number\": \"02111\"}', 24), ('{\"latitude\": \"42.371036\", \"name\": \"Littauer Building 280 (HKS)\", \"longitude\": \"-71.122057\", \"number\": \"02111\"}', 23), ('{\"latitude\": \"42.335303\", \"name\": \"Kresge G2 (HSPH)\", \"longitude\": \"-71.102839\", \"number\": \"02790\"}', 23), ('{\"latitude\": \"42.335303\", \"name\": \"Kresge 502 (HSPH)\", \"longitude\": \"-71.102839\", \"number\": \"02790\"}', 23)]\n"
     ]
    }
   ],
   "source": [
    "# sessions = []\n",
    "# for offering in offerings:\n",
    "#   if 'sessions' in offering:\n",
    "#     sessions += offering['sessions']\n",
    "# analyze('location', sessions)"
   ]
  },
  {
   "cell_type": "code",
   "execution_count": null,
   "metadata": {
    "collapsed": true
   },
   "outputs": [],
   "source": []
  }
 ],
 "metadata": {
  "kernelspec": {
   "display_name": "Python 2",
   "language": "python",
   "name": "python2"
  },
  "language_info": {
   "codemirror_mode": {
    "name": "ipython",
    "version": 2
   },
   "file_extension": ".py",
   "mimetype": "text/x-python",
   "name": "python",
   "nbconvert_exporter": "python",
   "pygments_lexer": "ipython2",
   "version": "2.7.13"
  }
 },
 "nbformat": 4,
 "nbformat_minor": 2
}
