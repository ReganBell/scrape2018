{
 "cells": [
  {
   "cell_type": "code",
   "execution_count": 30,
   "metadata": {
    "collapsed": true
   },
   "outputs": [],
   "source": [
    "def write(keyPath, obj={}, writeVal=''):\n",
    "  paths = [comp for comp in keyPath.split('/') if len(comp) > 0]\n",
    "  key = paths[0] if len(paths) > 0 else None\n",
    "  rest = '/'.join(paths[1:]) if len(paths) > 1 else None\n",
    "  if not rest:\n",
    "    if key == '[]':\n",
    "      for i in range(0, len(obj)):\n",
    "        obj[i] = writeVal\n",
    "    elif key[0] == '[':\n",
    "      index = int(key[1:-1])\n",
    "      obj[index] = writeVal\n",
    "    else:\n",
    "      obj[key] = writeVal\n",
    "  else:\n",
    "    if key == '[]':\n",
    "      for element in obj:\n",
    "        write(rest, obj=element, writeVal=writeVal)\n",
    "    elif key[0] == '[':\n",
    "      index = int(key[1:-1])\n",
    "      write(rest, obj=obj[index], writeVal=writeVal)\n",
    "    else:\n",
    "      if key not in obj:\n",
    "        obj[key] = {}\n",
    "      write(rest, obj=obj[key], writeVal=writeVal)"
   ]
  },
  {
   "cell_type": "code",
   "execution_count": 40,
   "metadata": {
    "collapsed": true
   },
   "outputs": [],
   "source": [
    "def find(keyPath, obj={}, do=lambda x:x, cast=None, writeVal=None):\n",
    "  if writeVal:\n",
    "    return write(keyPath, obj=obj, writeVal=writeVal)\n",
    "  paths = [comp for comp in keyPath.split('/') if len(comp) > 0]\n",
    "  key = paths[0] if len(paths) > 0 else None\n",
    "  rest = '/'.join(paths[1:])\n",
    "  if not key:\n",
    "    return cast(do(obj)) if cast else do(obj)\n",
    "  elif key == '[]':\n",
    "    return [find(rest, obj=value, do=do, cast=cast) for value in obj]\n",
    "  elif key[0] == '[':\n",
    "    index = int(key[1:-1])\n",
    "    return find(rest, obj=obj[index], do=do, cast=cast) if len(obj) > index else None        \n",
    "  else:\n",
    "    if key in obj:\n",
    "      return find(rest, obj=obj[key], do=do, cast=cast)"
   ]
  },
  {
   "cell_type": "code",
   "execution_count": 41,
   "metadata": {
    "collapsed": true
   },
   "outputs": [],
   "source": [
    "import os, datetime\n",
    "def finalWrite(dictionary, label, date=datetime.datetime.now().strftime(\"%b %-d %Y %-I.%M %p\"), cmdline=False):\n",
    "    pathname = 'Final/' + date + '/' + label + '.json'\n",
    "    if not os.path.exists(os.path.dirname(pathname)):\n",
    "        try:\n",
    "            os.makedirs(os.path.dirname(pathname))\n",
    "        except OSError as exc: # Guard against race condition\n",
    "            if exc.errno != errno.EEXIST:\n",
    "                raise\n",
    "    with open(pathname, 'w') as file:\n",
    "        file.write(json.dumps(dictionary, indent=2))\n",
    "    return pathname.replace(' ', '\\ ') if cmdline else pathname"
   ]
  },
  {
   "cell_type": "code",
   "execution_count": 39,
   "metadata": {
    "collapsed": true
   },
   "outputs": [],
   "source": [
    "def copyKeys(root, tupleOrKeys):\n",
    "    copy = {}\n",
    "    for tupOrKey in tupleOrKeys:\n",
    "      if isinstance(tupOrKey, tuple):\n",
    "        key, path = tupOrKey\n",
    "      else:\n",
    "        key, path = None, tupOrKey\n",
    "      key = key if key else path\n",
    "      value = find(path, obj=root)\n",
    "      copy.update({key: value} if value else {})\n",
    "    return copy"
   ]
  },
  {
   "cell_type": "code",
   "execution_count": 19,
   "metadata": {
    "collapsed": true
   },
   "outputs": [],
   "source": [
    "class pluck():\n",
    "  def __init__(self, *args, **kwargs):\n",
    "    self.args = args\n",
    "  def getTuple(self, dictionary):\n",
    "    vals = [dictionary[arg] if arg in dictionary else None for arg in self.args]\n",
    "    return tuple(vals) if len(vals) > 1 else vals[0]\n",
    "  def all(self, lst):\n",
    "    return [self.getTuple(x) for x in lst]"
   ]
  },
  {
   "cell_type": "code",
   "execution_count": 18,
   "metadata": {
    "collapsed": true
   },
   "outputs": [],
   "source": [
    "def name(fullName, match=False):\n",
    "  if match:\n",
    "    names = fullName.replace('.', '').lower().split(' ')\n",
    "    return names[0] + ' ' + names[-1]\n",
    "  else:\n",
    "    names = [nm for nm in fullName.split(' ') if '.' not in nm and len(nm) != 1]\n",
    "    if len(names) == 1:\n",
    "      names = fullName.split(' ')\n",
    "    return names[0] + ' ' + ' '.join(names[1:])"
   ]
  },
  {
   "cell_type": "code",
   "execution_count": 17,
   "metadata": {
    "collapsed": true
   },
   "outputs": [],
   "source": [
    "def combineDicts(dicts):\n",
    "  def mergeDicts(a, b):\n",
    "    a.update(b)\n",
    "    return a\n",
    "  return reduce(mergeDicts, dicts, {})"
   ]
  },
  {
   "cell_type": "code",
   "execution_count": 5,
   "metadata": {
    "collapsed": true
   },
   "outputs": [],
   "source": [
    "allWith = lambda keyPath, lst, do=lambda x:x, cast=None: [(x, val) for x, val in [(x, find(keyPath, obj=x, do=do, cast=cast)) for x in lst] if val]"
   ]
  },
  {
   "cell_type": "code",
   "execution_count": 13,
   "metadata": {
    "collapsed": true
   },
   "outputs": [],
   "source": [
    "from collections import Counter\n",
    "\n",
    "class Mapper():\n",
    "  \n",
    "  @staticmethod\n",
    "  def noChange(toKey):\n",
    "    return lambda value: {toKey: value} if value else {}\n",
    "  \n",
    "  def __init__(self, fromKeys, fn):\n",
    "    self.fromKeys = fromKeys\n",
    "    self.fn = fn\n",
    "\n",
    "  def map_samples(self, samples):\n",
    "    for i, sample in samples:\n",
    "      self.map(sample, sampleIndex=i)\n",
    "  \n",
    "  def run(self, rawValues):\n",
    "    for raw in rawValues:\n",
    "      self.map(raw)\n",
    "  \n",
    "  def uniques(self, rawValues, start, end, keyPath=None):\n",
    "    counter = Counter()\n",
    "    def countIt(v):\n",
    "      counter[v] += 1\n",
    "    for raw in rawValues:\n",
    "      output = {}\n",
    "      self.map(raw, to=output)\n",
    "      if len(output.values()) == 0:\n",
    "        countIt('Not Found')\n",
    "      elif keyPath:\n",
    "        find(keyPath, obj=output, do=countIt)\n",
    "      else:\n",
    "        for val in output.values():\n",
    "          countIt(val)\n",
    "    sorted = [tup[0] for tup in counter.most_common()][start:end]\n",
    "    for value in sorted:\n",
    "      print value\n",
    "    \n",
    "  def map(self, raw, to={}, sampleIndex=-1):\n",
    "    if isinstance(self.fromKeys, list):\n",
    "      inputs = tuple(raw[key] if key in raw else None for key in self.fromKeys)\n",
    "    elif self.fromKeys not in raw:\n",
    "      if sampleIndex != -1:\n",
    "        print self.fromKeys, 'not found in', sampleIndex\n",
    "      return\n",
    "    else:\n",
    "      inputs = raw[self.fromKeys]\n",
    "    outputs = self.fn(inputs)\n",
    "    if sampleIndex != -1:\n",
    "      print 'Input', str(sampleIndex) + ':'\n",
    "      print json.dumps(inputs, indent=2)\n",
    "      print 'into output:'\n",
    "      print json.dumps(outputs, indent=2)\n",
    "    else:\n",
    "      to.update(outputs)"
   ]
  },
  {
   "cell_type": "code",
   "execution_count": 16,
   "metadata": {
    "collapsed": true
   },
   "outputs": [],
   "source": [
    "from random import randint\n",
    "def genSample(items):\n",
    "  return items[randint(0, len(items))]\n",
    "def genSamples(items, n, includeIndices=True):\n",
    "  count = len(items)\n",
    "  indices = [randint(0, count) for _ in range(0, n)]\n",
    "  if includeIndices:\n",
    "    return [(i, items[i]) for i in indices]\n",
    "  else:\n",
    "    return [items[i] for i in indices]"
   ]
  },
  {
   "cell_type": "code",
   "execution_count": 15,
   "metadata": {
    "collapsed": true
   },
   "outputs": [],
   "source": [
    "import re\n",
    "class MultiReplace():  \n",
    "  def __init__(self, replacements):\n",
    "    self.replacements = [(re.compile(regex), replaceWith) for regex, replaceWith in replacements.items()]\n",
    "\n",
    "  def sub(self, string):\n",
    "    for regex, replaceWith in self.replacements:\n",
    "      string = regex.sub(replaceWith, string)\n",
    "    return string"
   ]
  },
  {
   "cell_type": "code",
   "execution_count": 1,
   "metadata": {
    "collapsed": true
   },
   "outputs": [],
   "source": [
    "def indexOfClosest(needle, haystack):\n",
    "  N = len(haystack); floor = 0; ceil = N;\n",
    "  if N == 0:\n",
    "    return None\n",
    "  k = N / 2\n",
    "  while ceil - floor != 1 and haystack[k] != needle:\n",
    "    if haystack[k] > needle:\n",
    "      ceil = k\n",
    "    elif haystack[k] < needle:\n",
    "      floor = k\n",
    "    k = (ceil - floor) / 2 + floor\n",
    "  return k\n",
    "  \n",
    "def percentileOfValue(needle, haystack):\n",
    "  N = len(haystack)\n",
    "  if N == 0:\n",
    "    return None\n",
    "  k = indexOfClosest(needle, haystack)\n",
    "  if haystack[k] == needle:\n",
    "    floor = ceil = k\n",
    "    while floor > -1 and haystack[floor] == needle:\n",
    "      floor -= 1\n",
    "    while ceil < N and haystack[ceil] == needle:\n",
    "      ceil += 1\n",
    "    index = float(ceil + floor) / 2.0\n",
    "  else:\n",
    "    index = float(k)\n",
    "  return int(100 * (index / float(N)))"
   ]
  },
  {
   "cell_type": "code",
   "execution_count": 5,
   "metadata": {
    "collapsed": false
   },
   "outputs": [],
   "source": [
    "def analyze(key, objects):\n",
    "  filtered = [o for o in objects if key in o]\n",
    "  print 'Is optional?', len(filtered) != len(objects), len(filtered), 'of', len(objects)\n",
    "  from collections import Counter\n",
    "  import json\n",
    "  valCounter = Counter()\n",
    "  typeCounter = Counter()\n",
    "  for o in filtered:\n",
    "    value = o[key] if type(o[key]) == unicode else json.dumps(o[key])\n",
    "    valCounter[value] += 1\n",
    "    typeCounter[type(o[key])] += 1\n",
    "  print typeCounter\n",
    "  print valCounter.most_common(10)"
   ]
  }
 ],
 "metadata": {
  "kernelspec": {
   "display_name": "Python 2",
   "language": "python",
   "name": "python2"
  },
  "language_info": {
   "codemirror_mode": {
    "name": "ipython",
    "version": 2
   },
   "file_extension": ".py",
   "mimetype": "text/x-python",
   "name": "python",
   "nbconvert_exporter": "python",
   "pygments_lexer": "ipython2",
   "version": "2.7.13"
  }
 },
 "nbformat": 4,
 "nbformat_minor": 2
}
