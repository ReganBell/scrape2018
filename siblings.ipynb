{
 "cells": [
  {
   "cell_type": "code",
   "execution_count": null,
   "metadata": {
    "collapsed": true
   },
   "outputs": [],
   "source": [
    "from jupyterImport import enableJupyterImports\n",
    "enableJupyterImports()\n",
    "from professors import offeringsWithProfessors\n",
    "from collections import defaultdict"
   ]
  },
  {
   "cell_type": "code",
   "execution_count": null,
   "metadata": {
    "collapsed": true
   },
   "outputs": [],
   "source": [
    "from Utilities import copyKeys, analyze"
   ]
  },
  {
   "cell_type": "code",
   "execution_count": null,
   "metadata": {
    "collapsed": true
   },
   "outputs": [],
   "source": [
    "def siblingSummary(offering):\n",
    "  summary = copyKeys(offering, ['termYear', 'profs', 'sessions', 'objectID'])\n",
    "  if 'profs' in summary:\n",
    "    summary['profs'] = [copyKeys(p, ['score', 'percentile', 'matchName', 'displayName']) for p in summary['profs'][0:3]]\n",
    "  return summary\n",
    "\n",
    "def linkSiblings(offerings):\n",
    "  siblings = defaultdict(list)\n",
    "  for offering in offerings:\n",
    "    try:\n",
    "      if offering['group'] == 'EXPOS':\n",
    "        key = offering['group'] + offering['number'] + offering['profs'][0]['matchName']\n",
    "      else:\n",
    "        key = offering['group'] + offering['number']\n",
    "    except:\n",
    "      offering['otherOfferings'] = []\n",
    "    siblings[key].append(offering)\n",
    "  for name, courseOfferings in siblings.iteritems():\n",
    "    if len(courseOfferings) == 1:\n",
    "      continue\n",
    "    _range = range(0, len(courseOfferings))\n",
    "    summaries = map(siblingSummary, courseOfferings)\n",
    "    for i in _range:\n",
    "      courseOfferings[i]['otherOfferings'] = []\n",
    "      for other_k in (_range[:i] + _range[(i + 1):])[0:10]:\n",
    "        courseOfferings[i]['otherOfferings'].append(summaries[other_k])"
   ]
  },
  {
   "cell_type": "code",
   "execution_count": null,
   "metadata": {
    "collapsed": false
   },
   "outputs": [],
   "source": [
    "linkSiblings(offeringsWithProfessors)"
   ]
  },
  {
   "cell_type": "code",
   "execution_count": 7,
   "metadata": {
    "collapsed": false
   },
   "outputs": [
    {
     "name": "stdout",
     "output_type": "stream",
     "text": [
      "Is optional? True 8411 of 13455\n",
      "Counter({<type 'list'>: 8411})\n",
      "[('[{\"profs\": [{\"displayName\": \"Ellice Lieberman\", \"matchName\": \"ellice lieberman\"}], \"termYear\": \"Spring \\'18\", \"objectID\": \"190341_17999\"}, {\"profs\": [{\"displayName\": \"Joshua Gagne\", \"matchName\": \"joshua gagne\"}], \"termYear\": \"Spring \\'18\", \"objectID\": \"190341_17993\"}, {\"profs\": [{\"displayName\": \"Ellice Lieberman\", \"matchName\": \"ellice lieberman\"}], \"termYear\": \"Spring \\'18\", \"objectID\": \"190341_17997\"}, {\"profs\": [{\"displayName\": \"Ellice Lieberman\", \"matchName\": \"ellice lieberman\"}], \"termYear\": \"Spring \\'18\", \"objectID\": \"190341_17996\"}, {\"profs\": [{\"displayName\": \"Immaculata De Vivo\", \"matchName\": \"immaculata vivo\"}], \"termYear\": \"Spring \\'18\", \"objectID\": \"190341_10314\"}, {\"profs\": [{\"displayName\": \"Immaculata De Vivo\", \"matchName\": \"immaculata vivo\"}], \"termYear\": \"Spring \\'18\", \"objectID\": \"190341_10315\"}, {\"profs\": [{\"score\": 3.45, \"displayName\": \"Douglas Dockery\", \"matchName\": \"douglas dockery\"}], \"termYear\": \"Spring \\'18\", \"objectID\": \"190341_10317\"}, {\"profs\": [{\"displayName\": \"Earl Cook\", \"matchName\": \"earl cook\"}], \"termYear\": \"Spring \\'18\", \"objectID\": \"190341_10310\"}, {\"profs\": [{\"displayName\": \"Earl Cook\", \"matchName\": \"earl cook\"}], \"termYear\": \"Spring \\'18\", \"objectID\": \"190341_10311\"}, {\"profs\": [{\"displayName\": \"Earl Cook\", \"matchName\": \"earl cook\"}], \"termYear\": \"Spring \\'18\", \"objectID\": \"190341_10312\"}]', 305), ('[{\"profs\": [{\"displayName\": \"Liming Liang\", \"matchName\": \"liming liang\"}], \"termYear\": \"Fall \\'17\", \"objectID\": \"190348_11325\"}, {\"profs\": [{\"displayName\": \"Liming Liang\", \"matchName\": \"liming liang\"}], \"termYear\": \"Fall \\'17\", \"objectID\": \"190348_11324\"}, {\"profs\": [{\"displayName\": \"Michele Hacker\", \"matchName\": \"michele hacker\"}], \"termYear\": \"Fall \\'17\", \"objectID\": \"190348_11305\"}, {\"profs\": [{\"displayName\": \"Michele Hacker\", \"matchName\": \"michele hacker\"}], \"termYear\": \"Fall \\'17\", \"objectID\": \"190348_11307\"}, {\"profs\": [{\"displayName\": \"Michele Hacker\", \"matchName\": \"michele hacker\"}], \"termYear\": \"Fall \\'17\", \"objectID\": \"190348_11306\"}, {\"profs\": [{\"displayName\": \"George Seage\", \"matchName\": \"george seage\"}], \"termYear\": \"Fall \\'17\", \"objectID\": \"190348_10496\"}, {\"profs\": [{\"displayName\": \"George Seage\", \"matchName\": \"george seage\"}], \"termYear\": \"Fall \\'17\", \"objectID\": \"190348_10497\"}, {\"profs\": [{\"displayName\": \"Stephen Gilman\", \"matchName\": \"stephen gilman\"}], \"termYear\": \"Spring \\'18\", \"objectID\": \"190348_10494\"}, {\"profs\": [{\"displayName\": \"Stephen Gilman\", \"matchName\": \"stephen gilman\"}], \"termYear\": \"Spring \\'18\", \"objectID\": \"190348_10495\"}, {\"profs\": [{\"displayName\": \"Joel Schwartz\", \"matchName\": \"joel schwartz\"}], \"termYear\": \"Fall \\'17\", \"objectID\": \"190348_10492\"}]', 260), ('[{\"profs\": [{\"displayName\": \"Joshua Salomon\", \"matchName\": \"joshua salomon\"}], \"termYear\": \"Fall \\'17\", \"objectID\": \"190419_10591\"}, {\"profs\": [{\"displayName\": \"Christopher Murray\", \"matchName\": \"christopher murray\"}], \"termYear\": \"Spring \\'18\", \"objectID\": \"190419_10707\"}, {\"profs\": [{\"displayName\": \"Marc Mitchell\", \"matchName\": \"marc mitchell\"}], \"termYear\": \"Spring \\'18\", \"objectID\": \"190419_10705\"}, {\"profs\": [{\"displayName\": \"Marc Mitchell\", \"matchName\": \"marc mitchell\"}], \"termYear\": \"Spring \\'18\", \"objectID\": \"190419_10704\"}, {\"profs\": [{\"score\": 4.67, \"displayName\": \"Stephen Marks\", \"matchName\": \"stephen marks\"}], \"termYear\": \"Spring \\'18\", \"objectID\": \"190419_10702\"}, {\"profs\": [{\"score\": 4.67, \"displayName\": \"Stephen Marks\", \"matchName\": \"stephen marks\"}], \"termYear\": \"Spring \\'18\", \"objectID\": \"190419_10701\"}, {\"profs\": [{\"displayName\": \"Christopher Murray\", \"matchName\": \"christopher murray\"}], \"termYear\": \"Spring \\'18\", \"objectID\": \"190419_10708\"}, {\"profs\": [{\"displayName\": \"Claude Bruderlein\", \"matchName\": \"claude bruderlein\"}], \"termYear\": \"Spring \\'18\", \"objectID\": \"190419_10663\"}, {\"profs\": [{\"displayName\": \"Richard Levins\", \"matchName\": \"richard levins\"}], \"termYear\": \"Spring \\'18\", \"objectID\": \"190419_11003\"}, {\"profs\": [{\"displayName\": \"Richard Levins\", \"matchName\": \"richard levins\"}], \"termYear\": \"Spring \\'18\", \"objectID\": \"190419_11002\"}]', 202), ('[{\"profs\": [{\"displayName\": \"Gregory Norris\", \"matchName\": \"gregory norris\"}], \"termYear\": \"Spring \\'18\", \"objectID\": \"190217_11108\"}, {\"profs\": [{\"displayName\": \"Gregory Norris\", \"matchName\": \"gregory norris\"}], \"termYear\": \"Spring \\'18\", \"objectID\": \"190217_11109\"}, {\"profs\": [{\"displayName\": \"Stefanos Kales\", \"matchName\": \"stefanos kales\"}], \"termYear\": \"Spring \\'18\", \"objectID\": \"190217_11106\"}, {\"profs\": [{\"displayName\": \"Stefanos Kales\", \"matchName\": \"stefanos kales\"}], \"termYear\": \"Spring \\'18\", \"objectID\": \"190217_11107\"}, {\"profs\": [{\"displayName\": \"David Bellinger\", \"matchName\": \"david bellinger\"}], \"termYear\": \"Spring \\'18\", \"objectID\": \"190217_11104\"}, {\"profs\": [{\"displayName\": \"David Bellinger\", \"matchName\": \"david bellinger\"}], \"termYear\": \"Spring \\'18\", \"objectID\": \"190217_11102\"}, {\"profs\": [{\"displayName\": \"David Bellinger\", \"matchName\": \"david bellinger\"}], \"termYear\": \"Spring \\'18\", \"objectID\": \"190217_11103\"}, {\"profs\": [{\"displayName\": \"Marc Weisskopf\", \"matchName\": \"marc weisskopf\"}], \"termYear\": \"Spring \\'18\", \"objectID\": \"190217_10279\"}, {\"profs\": [{\"displayName\": \"Marc Weisskopf\", \"matchName\": \"marc weisskopf\"}], \"termYear\": \"Spring \\'18\", \"objectID\": \"190217_10278\"}, {\"profs\": [{\"displayName\": \"Marc Weisskopf\", \"matchName\": \"marc weisskopf\"}], \"termYear\": \"Spring \\'18\", \"objectID\": \"190217_10277\"}]', 110), ('[{\"profs\": [{\"score\": 4.5, \"displayName\": \"Emma Rothschild\", \"matchName\": \"emma rothschild\"}], \"termYear\": \"Fall \\'17\", \"objectID\": \"112981_16569\"}, {\"profs\": [{\"score\": 4.5, \"displayName\": \"Jill Lepore\", \"matchName\": \"jill lepore\"}], \"termYear\": \"Fall \\'17\", \"objectID\": \"112981_16564\"}, {\"profs\": [{\"score\": 4.88, \"displayName\": \"Ian Miller\", \"percentile\": 85, \"matchName\": \"ian miller\"}], \"termYear\": \"Fall \\'17\", \"objectID\": \"112981_16567\"}, {\"profs\": [{\"score\": 4.25, \"displayName\": \"Kelly O\\'Neill\", \"percentile\": 34, \"matchName\": \"kelly o\\'neill\"}], \"termYear\": \"Spring \\'18\", \"objectID\": \"112981_13940\"}, {\"profs\": [{\"score\": 4.7, \"displayName\": \"Maya Jasanoff\", \"percentile\": 70, \"matchName\": \"maya jasanoff\"}], \"termYear\": \"Fall \\'17\", \"objectID\": \"112981_16561\"}, {\"profs\": [{\"score\": 4.86, \"displayName\": \"Walter Johnson\", \"matchName\": \"walter johnson\"}], \"termYear\": \"Fall \\'17\", \"objectID\": \"112981_16563\"}, {\"profs\": [{\"score\": 5.0, \"displayName\": \"Khaled Fahmy\", \"matchName\": \"khaled fahmy\"}], \"termYear\": \"Fall \\'17\", \"objectID\": \"112981_19310\"}, {\"profs\": [{\"score\": 5.0, \"displayName\": \"Jan Ziolkowski\", \"matchName\": \"jan ziolkowski\"}], \"termYear\": \"Fall \\'17\", \"objectID\": \"112981_17438\"}, {\"profs\": [{\"score\": 4.7, \"displayName\": \"Arunabh Ghosh\", \"percentile\": 70, \"matchName\": \"arunabh ghosh\"}], \"termYear\": \"Fall \\'17\", \"objectID\": \"112981_16556\"}, {\"profs\": [{\"score\": 4.4, \"displayName\": \"Tamar Herzog\", \"matchName\": \"tamar herzog\"}], \"termYear\": \"Fall \\'17\", \"objectID\": \"112981_16558\"}]', 110), ('[{\"profs\": [{\"displayName\": \"Chirag Patel\", \"matchName\": \"chirag patel\"}], \"termYear\": \"Fall \\'17\", \"objectID\": \"121507_17036\"}, {\"profs\": [{\"score\": 4.38, \"displayName\": \"Andrew Murray\", \"percentile\": 57, \"matchName\": \"andrew murray\"}], \"termYear\": \"Spring \\'18\", \"objectID\": \"121507_15434\"}, {\"profs\": [{\"displayName\": \"Chirag Patel\", \"matchName\": \"chirag patel\"}], \"termYear\": \"Spring \\'18\", \"objectID\": \"121507_17290\"}, {\"profs\": [{\"displayName\": \"Vamsi Mootha\", \"matchName\": \"vamsi mootha\"}], \"termYear\": \"Spring \\'18\", \"objectID\": \"121507_15450\"}, {\"profs\": [{\"displayName\": \"Ralph Weissleder\", \"matchName\": \"ralph weissleder\"}], \"termYear\": \"Fall \\'17\", \"objectID\": \"121507_15672\"}, {\"profs\": [{\"score\": 4.64, \"displayName\": \"Ethan Garner\", \"percentile\": 64, \"matchName\": \"ethan garner\"}], \"termYear\": \"Spring \\'18\", \"objectID\": \"121507_15433\"}, {\"profs\": [{\"score\": 3.29, \"displayName\": \"John Rinn\", \"percentile\": 4, \"matchName\": \"john rinn\"}], \"termYear\": \"Fall \\'17\", \"objectID\": \"121507_15663\"}, {\"profs\": [{\"score\": 4.5, \"displayName\": \"Alexander Schier\", \"percentile\": 52, \"matchName\": \"alexander schier\"}], \"termYear\": \"Fall \\'17\", \"objectID\": \"121507_15665\"}, {\"profs\": [{\"displayName\": \"Ralph Weissleder\", \"matchName\": \"ralph weissleder\"}], \"termYear\": \"Spring \\'18\", \"objectID\": \"121507_15466\"}, {\"profs\": [{\"score\": 4.18, \"displayName\": \"Jacob Hooker\", \"matchName\": \"jacob hooker\"}], \"termYear\": \"Spring \\'18\", \"objectID\": \"121507_12830\"}]', 109), ('[{\"profs\": [{\"displayName\": \"Alan Geller\", \"matchName\": \"alan geller\"}], \"termYear\": \"Fall \\'17\", \"objectID\": \"191143_11769\"}, {\"profs\": [{\"displayName\": \"Alan Geller\", \"matchName\": \"alan geller\"}], \"termYear\": \"Fall \\'17\", \"objectID\": \"191143_11767\"}, {\"profs\": [{\"displayName\": \"Barbara Gottlieb\", \"matchName\": \"barbara gottlieb\"}], \"termYear\": \"Fall \\'17\", \"objectID\": \"191143_11530\"}, {\"profs\": [{\"displayName\": \"Barbara Gottlieb\", \"matchName\": \"barbara gottlieb\"}], \"termYear\": \"Fall \\'17\", \"objectID\": \"191143_11532\"}, {\"profs\": [{\"displayName\": \"Christina Roberto\", \"matchName\": \"christina roberto\"}], \"termYear\": \"Spring \\'18\", \"objectID\": \"191143_11533\"}, {\"profs\": [{\"displayName\": \"Christina Roberto\", \"matchName\": \"christina roberto\"}], \"termYear\": \"Fall \\'17\", \"objectID\": \"191143_11511\"}, {\"profs\": [{\"displayName\": \"Karestan Koenen\", \"matchName\": \"karestan koenen\"}], \"termYear\": \"Spring \\'18\", \"objectID\": \"191143_11309\"}, {\"profs\": [{\"displayName\": \"Karestan Koenen\", \"matchName\": \"karestan koenen\"}], \"termYear\": \"Spring \\'18\", \"objectID\": \"191143_11308\"}, {\"profs\": [{\"displayName\": \"Ichiro Kawachi\", \"matchName\": \"ichiro kawachi\"}], \"termYear\": \"Spring \\'18\", \"objectID\": \"191143_11307\"}, {\"profs\": [{\"displayName\": \"Ichiro Kawachi\", \"matchName\": \"ichiro kawachi\"}], \"termYear\": \"Spring \\'18\", \"objectID\": \"191143_11306\"}]', 107), ('[{\"profs\": [{\"score\": 4.5, \"displayName\": \"Jill Lepore\", \"matchName\": \"jill lepore\"}], \"termYear\": \"Spring \\'18\", \"objectID\": \"114064_16442\"}, {\"profs\": [{\"score\": 4.5, \"displayName\": \"Mary Lewis\", \"matchName\": \"mary lewis\"}], \"termYear\": \"Spring \\'18\", \"objectID\": \"114064_16443\"}, {\"profs\": [{\"score\": 4.38, \"displayName\": \"William Kirby\", \"percentile\": 57, \"matchName\": \"william kirby\"}], \"termYear\": \"Spring \\'18\", \"objectID\": \"114064_16440\"}, {\"profs\": [{\"score\": 5.0, \"displayName\": \"Erez Manela\", \"matchName\": \"erez manela\"}], \"termYear\": \"Spring \\'18\", \"objectID\": \"114064_16446\"}, {\"profs\": [{\"score\": 3.77, \"displayName\": \"Terry Martin\", \"percentile\": 27, \"matchName\": \"terry martin\"}], \"termYear\": \"Spring \\'18\", \"objectID\": \"114064_16447\"}, {\"profs\": [{\"score\": 4.62, \"displayName\": \"Fredrik Logevall\", \"percentile\": 63, \"matchName\": \"fredrik logevall\"}], \"termYear\": \"Spring \\'18\", \"objectID\": \"114064_16444\"}, {\"profs\": [{\"score\": 4.75, \"displayName\": \"Charles Maier\", \"matchName\": \"charles maier\"}], \"termYear\": \"Spring \\'18\", \"objectID\": \"114064_16445\"}, {\"profs\": [{\"score\": 5.0, \"displayName\": \"Michael McCormick\", \"percentile\": 77, \"matchName\": \"michael mccormick\"}], \"termYear\": \"Spring \\'18\", \"objectID\": \"114064_16448\"}, {\"profs\": [{\"score\": 3.6, \"displayName\": \"Lisa McGirr\", \"matchName\": \"lisa mcgirr\"}], \"termYear\": \"Spring \\'18\", \"objectID\": \"114064_16449\"}, {\"profs\": [{\"score\": 4.5, \"displayName\": \"Roy Mottahedeh\", \"percentile\": 43, \"matchName\": \"roy mottahedeh\"}], \"termYear\": \"Fall \\'17\", \"objectID\": \"114064_14109\"}]', 102), ('[{\"profs\": [{\"score\": 4.93, \"displayName\": \"Madina Agenor\", \"matchName\": \"madina agenor\"}], \"termYear\": \"Fall \\'17\", \"objectID\": \"191142_11834\"}, {\"profs\": [{\"score\": 4.93, \"displayName\": \"Madina Agenor\", \"matchName\": \"madina agenor\"}], \"termYear\": \"Fall \\'17\", \"objectID\": \"191142_11835\"}, {\"profs\": [{\"displayName\": \"Marie McCormick\", \"matchName\": \"marie mccormick\"}], \"termYear\": \"Fall \\'17\", \"objectID\": \"191142_11168\"}, {\"profs\": [{\"displayName\": \"Marie McCormick\", \"matchName\": \"marie mccormick\"}], \"termYear\": \"Fall \\'17\", \"objectID\": \"191142_11169\"}, {\"profs\": [{\"displayName\": \"Stephen Gilman\", \"matchName\": \"stephen gilman\"}], \"termYear\": \"Fall \\'17\", \"objectID\": \"191142_11160\"}, {\"profs\": [{\"score\": 4.93, \"displayName\": \"Madina Agenor\", \"matchName\": \"madina agenor\"}], \"termYear\": \"Fall \\'17\", \"objectID\": \"191142_11836\"}, {\"profs\": [{\"displayName\": \"Karestan Koenen\", \"matchName\": \"karestan koenen\"}], \"termYear\": \"Fall \\'17\", \"objectID\": \"191142_11162\"}, {\"profs\": [{\"displayName\": \"Karestan Koenen\", \"matchName\": \"karestan koenen\"}], \"termYear\": \"Fall \\'17\", \"objectID\": \"191142_11163\"}, {\"profs\": [{\"displayName\": \"Stephen Gilman\", \"matchName\": \"stephen gilman\"}], \"termYear\": \"Fall \\'17\", \"objectID\": \"191142_11161\"}, {\"profs\": [{\"displayName\": \"Cassandra Okechukwu\", \"matchName\": \"cassandra okechukwu\"}], \"termYear\": \"Fall \\'17\", \"objectID\": \"191142_11166\"}]', 99), ('[{\"profs\": [{\"displayName\": \"Joseph Allen\", \"matchName\": \"joseph allen\"}], \"termYear\": \"Spring \\'18\", \"objectID\": \"190222_11494\"}, {\"profs\": [{\"displayName\": \"Joseph Allen\", \"matchName\": \"joseph allen\"}], \"termYear\": \"Spring \\'18\", \"objectID\": \"190222_11495\"}, {\"profs\": [{\"displayName\": \"Joseph Allen\", \"matchName\": \"joseph allen\"}], \"termYear\": \"Spring \\'18\", \"objectID\": \"190222_11496\"}, {\"profs\": [{\"displayName\": \"Joseph Allen\", \"matchName\": \"joseph allen\"}], \"termYear\": \"Spring \\'18\", \"objectID\": \"190222_11497\"}, {\"profs\": [{\"displayName\": \"Phil Demokritou\", \"matchName\": \"phil demokritou\"}], \"termYear\": \"Spring \\'18\", \"objectID\": \"190222_10945\"}, {\"profs\": [{\"score\": 3.45, \"displayName\": \"Douglas Dockery\", \"matchName\": \"douglas dockery\"}], \"termYear\": \"Spring \\'18\", \"objectID\": \"190222_11027\"}, {\"profs\": [{\"score\": 3.45, \"displayName\": \"Douglas Dockery\", \"matchName\": \"douglas dockery\"}], \"termYear\": \"Spring \\'18\", \"objectID\": \"190222_11026\"}, {\"profs\": [{\"displayName\": \"Maitreyi Mazumdar\", \"matchName\": \"maitreyi mazumdar\"}], \"termYear\": \"Spring \\'18\", \"objectID\": \"190222_11528\"}, {\"profs\": [{\"displayName\": \"Maitreyi Mazumdar\", \"matchName\": \"maitreyi mazumdar\"}], \"termYear\": \"Spring \\'18\", \"objectID\": \"190222_11529\"}, {\"profs\": [{\"displayName\": \"Maitreyi Mazumdar\", \"matchName\": \"maitreyi mazumdar\"}], \"termYear\": \"Spring \\'18\", \"objectID\": \"190222_11527\"}]', 90)]\n"
     ]
    }
   ],
   "source": []
  },
  {
   "cell_type": "code",
   "execution_count": null,
   "metadata": {
    "collapsed": true
   },
   "outputs": [],
   "source": []
  }
 ],
 "metadata": {
  "kernelspec": {
   "display_name": "Python 2",
   "language": "python",
   "name": "python2"
  },
  "language_info": {
   "codemirror_mode": {
    "name": "ipython",
    "version": 2
   },
   "file_extension": ".py",
   "mimetype": "text/x-python",
   "name": "python",
   "nbconvert_exporter": "python",
   "pygments_lexer": "ipython2",
   "version": "2.7.13"
  }
 },
 "nbformat": 4,
 "nbformat_minor": 2
}
