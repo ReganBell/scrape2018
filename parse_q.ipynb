{
 "cells": [
  {
   "cell_type": "markdown",
   "metadata": {},
   "source": [
    "# Parse Q Data\n",
    "Start by importing some utilities and the raw data:"
   ]
  },
  {
   "cell_type": "code",
   "execution_count": 1,
   "metadata": {},
   "outputs": [],
   "source": [
    "import rawData, json, jupyterImport\n",
    "jupyterImport.enableJupyterImports()\n",
    "from Utilities import find, genSamples, genSample, pluck, copyKeys, combineDicts"
   ]
  },
  {
   "cell_type": "code",
   "execution_count": 2,
   "metadata": {},
   "outputs": [],
   "source": [
    "def extractRawReports(data=rawData.q()):\n",
    "  rawReportsDict = combineDicts(map(lambda s: s['reports'], data))\n",
    "  for reportId, rawReport in rawReportsDict.iteritems():\n",
    "    rawReport['reportId'] = reportId\n",
    "  return rawReportsDict.values()"
   ]
  },
  {
   "cell_type": "markdown",
   "metadata": {},
   "source": [
    "For some reason, Q reports don't include term / year anywhere on the pages. We have to scrape this data separately and then merge it with the reports:"
   ]
  },
  {
   "cell_type": "code",
   "execution_count": 3,
   "metadata": {
    "collapsed": true
   },
   "outputs": [],
   "source": [
    "def addTermYears(reports):\n",
    "  origins = {}\n",
    "  for key, termDict in rawData.qCourseIds().iteritems():\n",
    "    for deptList in termDict.values():\n",
    "      for courseId in deptList:\n",
    "        term = key.split('_')[1]\n",
    "        year = key.split('_')[0]\n",
    "        term = 'Fall' if term == '1' else 'Spring'\n",
    "        year = year if term == 'Fall' else str(int(year) + 1)\n",
    "        origins[courseId] = {'term': term, 'year': year}\n",
    "  for report in reports:\n",
    "    if report['reportId'] in origins:\n",
    "      report.update(origins[report['reportId']])"
   ]
  },
  {
   "cell_type": "code",
   "execution_count": 4,
   "metadata": {},
   "outputs": [],
   "source": [
    "import q_map\n",
    "def parseReportsAndComments(rawReports):\n",
    "  comments = {}\n",
    "  reports = []\n",
    "  for rawReport in rawReports:\n",
    "    report = {}\n",
    "    for mapper in q_map.mappers:\n",
    "      mapper.map(rawReport, to=report)\n",
    "    reports.append(report)\n",
    "    q_map.comments.map(rawReport, to=comments)\n",
    "  addTermYears(reports)\n",
    "  return (reports, comments)"
   ]
  },
  {
   "cell_type": "code",
   "execution_count": 5,
   "metadata": {},
   "outputs": [],
   "source": [
    "reports, comments = parseReportsAndComments(extractRawReports())"
   ]
  },
  {
   "cell_type": "code",
   "execution_count": 6,
   "metadata": {},
   "outputs": [
    {
     "data": {
      "text/plain": [
       "{'evals': 32,\n",
       " 'group': u'MATH',\n",
       " 'number': u'1A',\n",
       " 'profs': [{'displayName': u'Oliver Knill',\n",
       "   'matchName': u'oliver knill',\n",
       "   'responses': {'accessible': {'score': 4.75},\n",
       "    'discussion': {'score': 4.27},\n",
       "    'enthusiasm': {'score': 4.66},\n",
       "    'feedback': {'score': 4.29},\n",
       "    'instructor': {'score': 4.06},\n",
       "    'lectures': {'score': 4.31},\n",
       "    'turnaround': {'score': 4.61}}}],\n",
       " 'reasons': {'concentration': u'62%',\n",
       "  'elective': u'22%',\n",
       "  'expos': u'3%',\n",
       "  'genEd': u'28%',\n",
       "  'preMed': u'12%',\n",
       "  'secondary': u'6%'},\n",
       " 'reportId': u'29716',\n",
       " 'responses': {'assignments': {'score': 3.72},\n",
       "  'feedback': {'score': 3.87},\n",
       "  'materials': {'score': 3.87},\n",
       "  'overall': {'score': 4.06},\n",
       "  'recommend': {'score': 3.75},\n",
       "  'section': {'score': 4.0},\n",
       "  'workload': {'score': 6.16}},\n",
       " 'size': 38,\n",
       " 'term': 'Spring',\n",
       " 'title': u'Introduction to Calculus',\n",
       " 'year': '2012'}"
      ]
     },
     "execution_count": 6,
     "metadata": {},
     "output_type": "execute_result"
    }
   ],
   "source": [
    "### Run to inspect\n",
    "genSample(reports)"
   ]
  },
  {
   "cell_type": "code",
   "execution_count": null,
   "metadata": {
    "collapsed": true
   },
   "outputs": [],
   "source": []
  }
 ],
 "metadata": {
  "kernelspec": {
   "display_name": "Python 3",
   "language": "python",
   "name": "python3"
  },
  "language_info": {
   "codemirror_mode": {
    "name": "ipython",
    "version": 3
   },
   "file_extension": ".py",
   "mimetype": "text/x-python",
   "name": "python",
   "nbconvert_exporter": "python",
   "pygments_lexer": "ipython3",
   "version": "3.6.3"
  }
 },
 "nbformat": 4,
 "nbformat_minor": 2
}
