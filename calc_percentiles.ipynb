{
 "cells": [
  {
   "cell_type": "markdown",
   "metadata": {
    "collapsed": true
   },
   "source": [
    "# Calculate Percentiles"
   ]
  },
  {
   "cell_type": "code",
   "execution_count": 1,
   "metadata": {
    "collapsed": false
   },
   "outputs": [],
   "source": [
    "import json, jupyterImport\n",
    "jupyterImport.enableJupyterImports()\n",
    "from Utilities import find, genSamples, genSample, pluck, copyKeys, allWith, finalWrite, percentileOfValue, indexOfClosest, analyze\n",
    "from merge_scrapes import comments, reports, offerings, groupReplace\n",
    "from collections import defaultdict"
   ]
  },
  {
   "cell_type": "markdown",
   "metadata": {},
   "source": [
    "We group Q reports by `size` and `department`.\n",
    "\n",
    "Each Q report includes `size`, but no `department` information.\n",
    "\n",
    "Current `offerings` from my.harvard include `department`. Grouping these reports is easy:"
   ]
  },
  {
   "cell_type": "code",
   "execution_count": 2,
   "metadata": {
    "collapsed": true
   },
   "outputs": [],
   "source": [
    "def groupOfferingReportsByDepartment(offerings, reports):\n",
    "  reportsByDepartment = defaultdict(dict)\n",
    "  for offering, topReport in allWith('topReport', offerings):\n",
    "    offeringReports = [topReport] + (offering['reports'] if 'reports' in offering else [])\n",
    "    for department in offering['departments']:\n",
    "      for report in offeringReports:\n",
    "        reportsByDepartment[department][report['reportId']] = report\n",
    "  return reportsByDepartment"
   ]
  },
  {
   "cell_type": "markdown",
   "metadata": {},
   "source": [
    "For old `reports`, we don't know `department`. But we know `group`. And each offering has a `group` that maps to a `primaryDepartment`. We use this to group the old reports:"
   ]
  },
  {
   "cell_type": "code",
   "execution_count": 3,
   "metadata": {
    "collapsed": true
   },
   "outputs": [],
   "source": [
    "def groupOrphanReportsByDepartment(offerings, reports, reportsByDepartment):\n",
    "  departmentNames = {}\n",
    "  for offering in offerings:\n",
    "    departmentNames[offering['group']] = offering['departments'][0]\n",
    "  for report, group in allWith('group', reports):\n",
    "    sanitized = groupReplace.sub(group)\n",
    "    department = departmentNames[sanitized] if sanitized in departmentNames else None\n",
    "    if department:\n",
    "      reportsByDepartment[department][report['reportId']] = report\n",
    "def convertDictsToLists(reportDicts):\n",
    "  reportGroups = {}\n",
    "  for department, group in reportDicts.iteritems():\n",
    "    reportGroups[department] = group.values()\n",
    "  return reportGroups"
   ]
  },
  {
   "cell_type": "code",
   "execution_count": 4,
   "metadata": {
    "collapsed": false
   },
   "outputs": [],
   "source": [
    "reportDictsByDepartment = groupOfferingReportsByDepartment(offerings, reports)\n",
    "groupOrphanReportsByDepartment(offerings, reports, reportDictsByDepartment)\n",
    "reportsByDepartment = convertDictsToLists(reportDictsByDepartment)"
   ]
  },
  {
   "cell_type": "markdown",
   "metadata": {},
   "source": [
    "Now we'll group reports by `size`."
   ]
  },
  {
   "cell_type": "code",
   "execution_count": 5,
   "metadata": {
    "collapsed": false
   },
   "outputs": [],
   "source": [
    "def sizeClass(size):\n",
    "  size = int(size)\n",
    "  if size >= 200:\n",
    "    return '200+'\n",
    "  elif size >= 100:\n",
    "      return '100-199'\n",
    "  elif size >= 40:\n",
    "      return '40-99'\n",
    "  elif size >= 20:\n",
    "      return '20-39'\n",
    "  elif size >= 10:\n",
    "      return '10-19'\n",
    "  elif size > 5:\n",
    "      return '6-9'\n",
    "  else:\n",
    "      return '1-5'\n",
    "\n",
    "def groupReportsBySize(reports):    \n",
    "  bySize = defaultdict(list)\n",
    "  for report in reports:\n",
    "    bySize[sizeClass(report['size'])].append(report)\n",
    "  return bySize"
   ]
  },
  {
   "cell_type": "code",
   "execution_count": 6,
   "metadata": {
    "collapsed": false
   },
   "outputs": [],
   "source": [
    "reportsBySize = groupReportsBySize(reports)"
   ]
  },
  {
   "cell_type": "markdown",
   "metadata": {},
   "source": [
    "Now we have reports grouped by `department` and `size`. We need to lookup percentiles for each course attribute and each professor attribute. For each attribute, we pre-compute a sorted list of scores. Then we can calculate any percentile with a quick binary search."
   ]
  },
  {
   "cell_type": "code",
   "execution_count": 7,
   "metadata": {
    "collapsed": true
   },
   "outputs": [],
   "source": [
    "profQNames = ['lectures', 'instructor', 'enthusiasm', 'turnaround', 'feedback', 'discussion', 'accessible']\n",
    "courseQNames = ['feedback', 'section', 'recommend', 'assignments', 'overall', 'workload', 'materials']"
   ]
  },
  {
   "cell_type": "code",
   "execution_count": 8,
   "metadata": {
    "collapsed": false
   },
   "outputs": [],
   "source": [
    "def sortedFor(keyPath, reportGroups):\n",
    "  sortedForKeyPath = {}\n",
    "  for category, reportGroup in reportGroups:\n",
    "    if '[]' in keyPath:\n",
    "      keyPathValues = []\n",
    "      for report, _ in allWith('profs', reportGroup):\n",
    "        for value in find(keyPath, obj=report, cast=float):\n",
    "          keyPathValues.append(value)\n",
    "      sortedByKeyPathValue = sorted(keyPathValues)\n",
    "    else:\n",
    "      sortedByKeyPathValue = sorted([find(keyPath, obj=report) for report in reportGroup])\n",
    "    sortedForKeyPath[category] = [value for value in sortedByKeyPathValue if value]\n",
    "  return sortedForKeyPath\n",
    "\n",
    "def sortReportGroups(reportGroups):\n",
    "  sortedScores = {}\n",
    "  for attribute in courseQNames:\n",
    "    sortedScores[attribute] = sortedFor('responses/' + attribute + '/score', reportGroups)\n",
    "  for attribute in profQNames:\n",
    "    sortedScores[attribute] = sortedFor('profs/[]/responses/' + attribute + '/score', reportGroups)\n",
    "  return sortedScores"
   ]
  },
  {
   "cell_type": "code",
   "execution_count": 9,
   "metadata": {
    "collapsed": false
   },
   "outputs": [],
   "source": [
    "reportGroups = reportsBySize.items() + reportsByDepartment.items() + [('all', reports)]\n",
    "sortedScoreLists = sortReportGroups(reportGroups)"
   ]
  },
  {
   "cell_type": "markdown",
   "metadata": {},
   "source": [
    "Now that we've got these lists all pre-sorted, we can use them to quickly calculate percentiles, and to fit the distributions we'll use to display instead of sending down all of this data to the client like we used to. First are the percentiles:"
   ]
  },
  {
   "cell_type": "code",
   "execution_count": 10,
   "metadata": {
    "collapsed": false
   },
   "outputs": [],
   "source": [
    "def addPercentiles(report, offering):\n",
    "  profAttributes = lambda numProfs: [(Q, 'profs/[' + str(i) + ']/responses/' + Q) for i in range(0, numProfs) for Q in profQNames]\n",
    "  courseAttributes = [(Q, 'responses/' + Q) for Q in courseQNames]\n",
    "  attributes = courseAttributes + profAttributes(len(report['profs'])) if 'profs' in report else courseAttributes\n",
    "  for attribute, keyPath in attributes:\n",
    "    score = find(keyPath + '/score', obj=report, cast=float)\n",
    "    if not score:\n",
    "      continue\n",
    "    numLists = sortedScoreLists[attribute]\n",
    "    percentiles = {\n",
    "      'size': percentileOfValue(score, numLists[sizeClass(report['size'])]),\n",
    "      'all': percentileOfValue(score, numLists['all']),\n",
    "    }\n",
    "    for dept in offering['departments']:\n",
    "      percentiles[dept] = percentileOfValue(score, numLists[dept])\n",
    "    find(keyPath + '/percentiles', obj=report, writeVal=percentiles)\n",
    "      \n",
    "def calculatePercentiles():\n",
    "  for offering, topReport in allWith('topReport', offerings):\n",
    "    addPercentiles(topReport, offering)\n",
    "    if 'reports' in offering:\n",
    "      for report in offering['reports']:\n",
    "        addPercentiles(report, offering)"
   ]
  },
  {
   "cell_type": "code",
   "execution_count": 11,
   "metadata": {
    "collapsed": false,
    "scrolled": false
   },
   "outputs": [],
   "source": [
    "calculatePercentiles()\n",
    "offeringsWithPercentiles = offerings"
   ]
  }
 ],
 "metadata": {
  "kernelspec": {
   "display_name": "Python 2",
   "language": "python",
   "name": "python2"
  },
  "language_info": {
   "codemirror_mode": {
    "name": "ipython",
    "version": 2
   },
   "file_extension": ".py",
   "mimetype": "text/x-python",
   "name": "python",
   "nbconvert_exporter": "python",
   "pygments_lexer": "ipython2",
   "version": "2.7.13"
  }
 },
 "nbformat": 4,
 "nbformat_minor": 2
}
