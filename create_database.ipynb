{
 "cells": [
  {
   "cell_type": "markdown",
   "metadata": {},
   "source": [
    "# Create Database"
   ]
  },
  {
   "cell_type": "markdown",
   "metadata": {},
   "source": [
    "Start by enabling imports from other Jupyter notebooks, where the parsers will live."
   ]
  },
  {
   "cell_type": "code",
   "execution_count": 7,
   "metadata": {
    "collapsed": false
   },
   "outputs": [
    {
     "ename": "ImportError",
     "evalue": "cannot import name offerings",
     "output_type": "error",
     "traceback": [
      "\u001b[0;31m---------------------------------------------------------------------------\u001b[0m",
      "\u001b[0;31mImportError\u001b[0m                               Traceback (most recent call last)",
      "\u001b[0;32m<ipython-input-7-ff433c6a8924>\u001b[0m in \u001b[0;36m<module>\u001b[0;34m()\u001b[0m\n\u001b[1;32m      2\u001b[0m \u001b[0mjupyterImport\u001b[0m\u001b[0;34m.\u001b[0m\u001b[0menableJupyterImports\u001b[0m\u001b[0;34m(\u001b[0m\u001b[0;34m)\u001b[0m\u001b[0;34m\u001b[0m\u001b[0m\n\u001b[1;32m      3\u001b[0m \u001b[0;32mfrom\u001b[0m \u001b[0mUtilities\u001b[0m \u001b[0;32mimport\u001b[0m \u001b[0mfind\u001b[0m\u001b[0;34m,\u001b[0m \u001b[0mwrite\u001b[0m\u001b[0;34m,\u001b[0m \u001b[0mgenSamples\u001b[0m\u001b[0;34m,\u001b[0m \u001b[0mgenSample\u001b[0m\u001b[0;34m,\u001b[0m \u001b[0mpluck\u001b[0m\u001b[0;34m,\u001b[0m \u001b[0mcopyKeys\u001b[0m\u001b[0;34m,\u001b[0m \u001b[0mallWith\u001b[0m\u001b[0;34m\u001b[0m\u001b[0m\n\u001b[0;32m----> 4\u001b[0;31m \u001b[0;32mfrom\u001b[0m \u001b[0mmerge_scrapes\u001b[0m \u001b[0;32mimport\u001b[0m \u001b[0mreports\u001b[0m\u001b[0;34m,\u001b[0m \u001b[0mcomments\u001b[0m\u001b[0;34m,\u001b[0m \u001b[0mofferings\u001b[0m\u001b[0;34m,\u001b[0m \u001b[0mgroupReplace\u001b[0m\u001b[0;34m\u001b[0m\u001b[0m\n\u001b[0m",
      "\u001b[0;31mImportError\u001b[0m: cannot import name offerings"
     ]
    }
   ],
   "source": [
    "import json, jupyterImport\n",
    "jupyterImport.enableJupyterImports()\n",
    "from Utilities import find, write, genSamples, genSample, pluck, copyKeys, allWith\n",
    "from merge_scrapes import reports, comments, offerings, groupReplace"
   ]
  },
  {
   "cell_type": "markdown",
   "metadata": {},
   "source": [
    "Then we get to uploading!"
   ]
  },
  {
   "cell_type": "code",
   "execution_count": 4,
   "metadata": {
    "collapsed": false
   },
   "outputs": [],
   "source": [
    "import os, datetime\n",
    "def write(dictionary, label, date=datetime.datetime.now().strftime(\"%b %-d %Y %-I.%M %p\"), cmdline=False):\n",
    "    pathname = 'Final/' + date + '/' + label + '.json'\n",
    "    if not os.path.exists(os.path.dirname(pathname)):\n",
    "        try:\n",
    "            os.makedirs(os.path.dirname(pathname))\n",
    "        except OSError as exc: # Guard against race condition\n",
    "            if exc.errno != errno.EEXIST:\n",
    "                raise\n",
    "    with open(pathname, 'w') as file:\n",
    "        file.write(json.dumps(dictionary, indent=2))\n",
    "    return pathname.replace(' ', '\\ ') if cmdline else pathname"
   ]
  },
  {
   "cell_type": "code",
   "execution_count": 5,
   "metadata": {
    "collapsed": true
   },
   "outputs": [],
   "source": [
    "def upload(dataFile, writeLoc, version='10'):\n",
    "  print 'Uploading to Firebase:', 'node Firebase/upload.js ' + ' '.join([dataFile, writeLoc, version])\n",
    "  os.system('node Firebase/upload.js ' + ' '.join([dataFile, writeLoc, version]))"
   ]
  },
  {
   "cell_type": "code",
   "execution_count": 9,
   "metadata": {
    "collapsed": false
   },
   "outputs": [
    {
     "name": "stdout",
     "output_type": "stream",
     "text": [
      "uploading to firebase! node Firebase/upload.js Final/May\\ 13\\ 2017\\ 9.26\\ PM/Comments.json comments 10\n"
     ]
    }
   ],
   "source": [
    "upload(write(comments, 'Comments', cmdline=True), 'comments')"
   ]
  },
  {
   "cell_type": "markdown",
   "metadata": {},
   "source": []
  }
 ],
 "metadata": {
  "kernelspec": {
   "display_name": "Python 2",
   "language": "python",
   "name": "python2"
  },
  "language_info": {
   "codemirror_mode": {
    "name": "ipython",
    "version": 2
   },
   "file_extension": ".py",
   "mimetype": "text/x-python",
   "name": "python",
   "nbconvert_exporter": "python",
   "pygments_lexer": "ipython2",
   "version": "2.7.13"
  }
 },
 "nbformat": 4,
 "nbformat_minor": 2
}
