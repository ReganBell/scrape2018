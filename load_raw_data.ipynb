{
 "cells": [
  {
   "cell_type": "code",
   "execution_count": 1,
   "metadata": {
    "collapsed": true
   },
   "outputs": [],
   "source": [
    "import glob, os, json"
   ]
  },
  {
   "cell_type": "code",
   "execution_count": 1,
   "metadata": {
    "collapsed": false
   },
   "outputs": [],
   "source": [
    "def myHarvard():\n",
    "  files = glob.glob('pages/*')\n",
    "  new_files = glob.glob('newpages/*')\n",
    "  pageLists = [json.loads(open(f).read()) for f in files] + [json.loads(open(f).read()) for f in new_files]\n",
    "  offerings = {}\n",
    "  for lst in pageLists:\n",
    "    for rawOffering in lst:\n",
    "      classNumber = rawOffering['CLASS_NBR'] if 'CLASS_NBR' in rawOffering else '0'\n",
    "      if 'CRSE_ID' not in rawOffering:\n",
    "        continue\n",
    "      objectID = '_'.join([rawOffering['CRSE_ID'], classNumber])\n",
    "      termYearKey = 'IS_SCL_DESCR_IS_SCL_DESCRH'\n",
    "      offerings[objectID] = rawOffering\n",
    "  return offerings.values()"
   ]
  },
  {
   "cell_type": "code",
   "execution_count": null,
   "metadata": {
    "collapsed": true
   },
   "outputs": [],
   "source": []
  }
 ],
 "metadata": {
  "kernelspec": {
   "display_name": "Python 2",
   "language": "python",
   "name": "python2"
  },
  "language_info": {
   "codemirror_mode": {
    "name": "ipython",
    "version": 2
   },
   "file_extension": ".py",
   "mimetype": "text/x-python",
   "name": "python",
   "nbconvert_exporter": "python",
   "pygments_lexer": "ipython2",
   "version": "2.7.13"
  }
 },
 "nbformat": 4,
 "nbformat_minor": 2
}
