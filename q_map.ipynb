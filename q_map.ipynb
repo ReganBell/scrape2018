{
 "cells": [
  {
   "cell_type": "markdown",
   "metadata": {},
   "source": [
    "# Q Mappers\n",
    "Below are all of the mappings from the raw Q scrape to the parsed reports objects in the database. Each one is broken into its own cell to make testing easier. For testing, `genSamples`, `genSample`, and `Mapper`'s `uniques` method come in handy."
   ]
  },
  {
   "cell_type": "code",
   "execution_count": 2,
   "metadata": {
    "collapsed": false
   },
   "outputs": [],
   "source": [
    "from jupyterImport import enableJupyterImports\n",
    "enableJupyterImports()\n",
    "from Utilities import find, Mapper, MultiReplace, genSamples, genSample, name"
   ]
  },
  {
   "cell_type": "code",
   "execution_count": 11,
   "metadata": {
    "collapsed": false
   },
   "outputs": [],
   "source": [
    "def avgScore(nums, multipliers):\n",
    "  if len(nums) != 5:\n",
    "    raise\n",
    "  totalScores = reduce(lambda x, y: x + y, nums)\n",
    "  if totalScores == 0:\n",
    "    return 0.00\n",
    "  scoreSum = 0\n",
    "  for i, num in zip(multipliers, nums):\n",
    "    scoreSum += i * num\n",
    "  return float('{0:0.2f}'.format(float(scoreSum) / float(totalScores)))\n",
    "\n",
    "def mapResponse(question, response):\n",
    "  strNums = response.replace(' totalling a 100%', '').replace('Segments ', '').split(' ')\n",
    "  strNums = [x if len(x) > 0 else '0' for x in strNums]\n",
    "  multipliers = [1.5, 4.5, 8.5, 12.5, 16.5] if question == 'Workload (hours per week)' else range(1, 6)\n",
    "#   return {'score': avgScore([int(x) for x in strNums], multipliers), 'dist': ','.join(strNums)}\n",
    "  return {'score': avgScore([int(x) for x in strNums], multipliers)}\n",
    "  \n",
    "responseMap = {\n",
    "  'Feedback': 'feedback',\n",
    "  'Section': 'section',\n",
    "  'Would You Recommend': 'recommend',\n",
    "  'Assignments': 'assignments',\n",
    "  'Course Overall': 'overall',\n",
    "  'Materials': 'materials',\n",
    "  'Workload (hours per week)': 'workload',\n",
    "  'Effective Lectures or Presentations': 'lectures',\n",
    "  'Instructor Overall': 'instructor',\n",
    "  'Generates Enthusiasm': 'enthusiasm',\n",
    "  'Returns Assignments in Timely Fashion': 'turnaround',\n",
    "  'Gives Useful Feedback': 'feedback',\n",
    "  'Facilitates Discussion & Encourages Participation': 'discussion',\n",
    "  'Accessible Outside Class': 'accessible'\n",
    "}  \n",
    "  \n",
    "def mapResponses(raw):\n",
    "  if len(raw.items()) == 0:\n",
    "    return {}\n",
    "  responses = {}\n",
    "  for key, response in raw.iteritems():\n",
    "    if key in responseMap:\n",
    "      responses[responseMap[key]] = mapResponse(key, response)\n",
    "  return {'responses': responses}\n",
    "  \n",
    "responses = Mapper('responses', mapResponses)"
   ]
  },
  {
   "cell_type": "code",
   "execution_count": 4,
   "metadata": {
    "collapsed": true
   },
   "outputs": [],
   "source": [
    "def qName(fullName, match):\n",
    "  lastName = [fullName.split(', ')[0]]\n",
    "  rest = fullName.split(', ')[1:]\n",
    "  return name(' '.join(rest + lastName), match)\n",
    "  \n",
    "def mapQProfs(rawProfs):\n",
    "  profs = []\n",
    "  for profDict in rawProfs:\n",
    "    for fullName, responses in profDict.iteritems():\n",
    "      prof = {\n",
    "        'displayName': qName(fullName, match=False), \n",
    "        'matchName': qName(fullName, match=True)\n",
    "      }\n",
    "      prof.update(mapResponses(responses))\n",
    "      profs.append(prof)\n",
    "  return {'profs': profs}\n",
    "qProfs = Mapper('faculty', mapQProfs)"
   ]
  },
  {
   "cell_type": "code",
   "execution_count": 12,
   "metadata": {
    "collapsed": true
   },
   "outputs": [],
   "source": [
    "reasonsMap = {\n",
    "  'Elective': 'elective',\n",
    "  'Concentration or Department Requirement': 'concentration',\n",
    "  'Secondary Field or Language Citation Requirement': 'secondary',\n",
    "  'Undergraduate Core or General Education Requirement': 'genEd',\n",
    "  'Expository Writing Requirement': 'expos',\n",
    "  'Foreign Language Requirement': 'language',\n",
    "  'Pre-Med Requirement': 'preMed'\n",
    "}\n",
    "def mapReasons(reasons):\n",
    "  output = {}\n",
    "  for text in reasons:\n",
    "    text = text.replace('Choice question ', '')\n",
    "    reason = text.split(' is ')[0]\n",
    "    reason = reasonsMap[reason] if reason in reasonsMap else reason\n",
    "    percent = text.split(' is ')[1]\n",
    "    if percent != '0%':\n",
    "      output[reason] = percent\n",
    "  return {'reasons': output} if len(output.keys()) > 0 else {}\n",
    "reasons = Mapper('enrollmentReasons', mapReasons)"
   ]
  },
  {
   "cell_type": "code",
   "execution_count": 6,
   "metadata": {
    "collapsed": true
   },
   "outputs": [],
   "source": [
    "def mapSummaryStats(raw):\n",
    "  stats = raw[0].replace('\\n      ', '').split('\\\\u00a0\\\\u00a0\\\\u00a0')[0:2]\n",
    "  if len(stats) < 2:\n",
    "    stats = raw[0].replace('\\n      ', '').split(u'\\xa0\\xa0\\xa0')[0:2]\n",
    "  size = int(stats[0].split(':')[1].strip())\n",
    "  evals = int(stats[1].split(':')[1].strip())\n",
    "  return {'size': size, 'evals': evals}\n",
    "summaryStats = Mapper('summaryStats', mapSummaryStats)"
   ]
  },
  {
   "cell_type": "code",
   "execution_count": 7,
   "metadata": {
    "collapsed": true
   },
   "outputs": [],
   "source": [
    "def mapTitle(raw):\n",
    "  title = raw.split(': ')[1]\n",
    "  group = raw.split(': ')[0].split(' ')[0]\n",
    "  number = raw.split(': ')[0].split(' ')[1]\n",
    "  return {'title': title, 'group': group, 'number': number}\n",
    "title = Mapper('title', mapTitle)"
   ]
  },
  {
   "cell_type": "code",
   "execution_count": 8,
   "metadata": {
    "collapsed": false
   },
   "outputs": [],
   "source": [
    "reportId = Mapper('reportId', Mapper.noChange('reportId'))"
   ]
  },
  {
   "cell_type": "code",
   "execution_count": 9,
   "metadata": {
    "collapsed": true
   },
   "outputs": [],
   "source": [
    "def mapComments(inputs):\n",
    "  (rawComments, reportId) = inputs\n",
    "  if rawComments is None:\n",
    "    return {}\n",
    "  comments = {}\n",
    "  for comment in rawComments:\n",
    "    comments.update({\n",
    "      hash(comment): {'text': comment}\n",
    "    })\n",
    "  return {reportId: comments} if len(comments.keys()) > 0 else {}\n",
    "comments = Mapper(['comments', 'reportId'], mapComments)"
   ]
  },
  {
   "cell_type": "code",
   "execution_count": 10,
   "metadata": {
    "collapsed": true
   },
   "outputs": [],
   "source": [
    "mappers = [\n",
    "  responses,\n",
    "  qProfs,\n",
    "  reasons,\n",
    "  summaryStats,\n",
    "  reportId,\n",
    "  title\n",
    "]"
   ]
  }
 ],
 "metadata": {
  "kernelspec": {
   "display_name": "Python 2",
   "language": "python",
   "name": "python2"
  },
  "language_info": {
   "codemirror_mode": {
    "name": "ipython",
    "version": 2
   },
   "file_extension": ".py",
   "mimetype": "text/x-python",
   "name": "python",
   "nbconvert_exporter": "python",
   "pygments_lexer": "ipython2",
   "version": "2.7.13"
  }
 },
 "nbformat": 4,
 "nbformat_minor": 2
}
