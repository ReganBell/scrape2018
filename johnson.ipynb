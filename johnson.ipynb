{
 "cells": [
  {
   "cell_type": "code",
   "execution_count": null,
   "metadata": {
    "collapsed": true
   },
   "outputs": [],
   "source": [
    "from scipy.stats import johnsonsu, moment, norm, tmean, tvar, skew\n",
    "import matplotlib.pyplot as plt\n",
    "import numpy as np\n",
    "from random import gauss\n",
    "from math import floor, log10\n",
    "from decimal import Decimal\n",
    "\n",
    "def cacheDist(mean, var, skewness, johnson, cachedDists):\n",
    "  meanKey, varKey = '{0:0.2f}'.format(float(mean)), '{0:0.2f}'.format(float(var))\n",
    "  cachedDists[meanKey][varKey].append({'skewness': skewness, 'johnson': johnson})\n",
    "def cachedDist(mean, var, skewness, cachedDists):\n",
    "  meanKey, varKey = '{0:0.2f}'.format(float(mean)), '{0:0.2f}'.format(float(var))\n",
    "  if meanKey in cachedDists and varKey in cachedDists[meanKey]:\n",
    "    for entry in cachedDists[meanKey][varKey]:\n",
    "      if abs(skewness - entry['skewness']) < 0.25:\n",
    "        return entry['johnson']"
   ]
  },
  {
   "cell_type": "code",
   "execution_count": null,
   "metadata": {
    "collapsed": true
   },
   "outputs": [],
   "source": [
    "from datetime import datetime\n",
    "\n",
    "def buildJohnsonDict(johnsonDict, cachedDists, start=0):      \n",
    "  cacheHits = 0.0\n",
    "  totalHits = 0.0\n",
    "  lookups = 0.01\n",
    "  elapsed = datetime.now()\n",
    "  xLists = []\n",
    "  topReports = {}\n",
    "  for attribute, listDict in sortedReportLists.iteritems():\n",
    "    for listKey, xs in listDict.iteritems():\n",
    "      xLists.append((listKey, attribute, xs))\n",
    "  print 'Starting at', start, 'just', len(xLists) - start, 'to go!'\n",
    "  for listKey, attribute, xs in xLists[start:]:\n",
    "    if len(xs) == 0:\n",
    "      print 'Len 0 for', attribute, listKey\n",
    "      continue\n",
    "    if int(lookups) % 100 == 0:\n",
    "      print int(cacheHits), 'cache hits in last 100. Hit cache', int(totalHits), 'out of', int(lookups), 'times', '(' + str(int(100. * totalHits / lookups)) + '%)', 'took', int(round((datetime.now() - elapsed).total_seconds())), 'seconds'\n",
    "      cacheHits = 0\n",
    "      elapsed = datetime.now()\n",
    "    lookups += 1\n",
    "    [mean, var, skewness] = [tmean(xs), tvar(xs), skew(xs)]\n",
    "    cached = cachedDist(mean, var, skewness, cachedDists)\n",
    "    if cached:\n",
    "      cached['N'] = len(xs)\n",
    "      johnsonDict[attribute][listKey] = cached\n",
    "      cacheHits += 1\n",
    "      totalHits += 1\n",
    "    else:\n",
    "      [a, b, loc, scale] = [('%.2E' % Decimal(x)).replace('E+00', '') for x in johnsonsu.fit(xs)]\n",
    "      johnsonParams = {'a': a, 'b': b, 'loc': loc, 'scale': scale}\n",
    "      cacheDist(mean, var, skewness, johnsonParams, cachedDists)\n",
    "      johnsonParams['N'] = len(xs)\n",
    "      johnsonDict[attribute][listKey] = johnsonParams"
   ]
  },
  {
   "cell_type": "code",
   "execution_count": null,
   "metadata": {
    "collapsed": true
   },
   "outputs": [],
   "source": [
    "try:\n",
    "  johnsonDict = json.loads(open('../static/commonDistributions.json').read())\n",
    "except:\n",
    "  johnsonDict = defaultdict(dict)\n",
    "cachedDists = defaultdict(lambda: defaultdict(list))"
   ]
  },
  {
   "cell_type": "code",
   "execution_count": null,
   "metadata": {
    "collapsed": true
   },
   "outputs": [],
   "source": [
    "### Only run if johsonDict isn't already built. Takes forever, but you can pause / resume\n",
    "allBuilt = 0\n",
    "for key, dct in johnsonDict.iteritems():\n",
    "  allBuilt += len(dct.keys())\n",
    "buildJohnsonDict(johnsonDict, cachedDists, start=allBuilt)"
   ]
  },
  {
   "cell_type": "code",
   "execution_count": null,
   "metadata": {
    "collapsed": true
   },
   "outputs": [],
   "source": [
    "### Only run to update commonDistributions if it's been rebuilt\n",
    "with open('../static/commonDistributions.json', 'w') as distFile:\n",
    "    distFile.write(json.dumps(johnsonDict, indent=2))"
   ]
  },
  {
   "cell_type": "code",
   "execution_count": null,
   "metadata": {
    "collapsed": true
   },
   "outputs": [],
   "source": [
    "import time\n",
    "def linkJohnsonParams():\n",
    "  offeringAttributes = [(a, 'responses/' + a) for a in offeringResponseQs]\n",
    "  profAttributes = lambda numProfs: [(a, 'profs/[' + str(i) + ']/responses/' + a) for i in range(0, numProfs) for a in profResponseQs]\n",
    "  for offering, reports in allWith('reports', offerings):\n",
    "    for report in reports:\n",
    "      attributes = offeringAttributes + profAttributes(len(report['profs'])) if 'profs' in report else offeringAttributes\n",
    "      for attribute, keyPath in attributes:\n",
    "        print 'attribute', attribute, 'keypath', keyPath\n",
    "        time.sleep(1)\n",
    "        try:\n",
    "          params = johnsonDict[attribute][report['reportId']]\n",
    "        except:\n",
    "#           print 'No params for', attribute, report['group'], report['title']\n",
    "          continue\n",
    "        write(keyPath + '/percentiles/distParams', obj=report, writeVal=params)"
   ]
  },
  {
   "cell_type": "code",
   "execution_count": null,
   "metadata": {
    "collapsed": true
   },
   "outputs": [],
   "source": [
    "linkJohnsonParams()"
   ]
  }
 ],
 "metadata": {
  "kernelspec": {
   "display_name": "Python 2",
   "language": "python",
   "name": "python2"
  },
  "language_info": {
   "codemirror_mode": {
    "name": "ipython",
    "version": 2
   },
   "file_extension": ".py",
   "mimetype": "text/x-python",
   "name": "python",
   "nbconvert_exporter": "python",
   "pygments_lexer": "ipython2",
   "version": "2.7.13"
  }
 },
 "nbformat": 4,
 "nbformat_minor": 2
}
